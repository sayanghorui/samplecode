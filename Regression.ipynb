{
 "cells": [
  {
   "cell_type": "markdown",
   "metadata": {},
   "source": [
    "## Using ScikitLearn Library"
   ]
  },
  {
   "cell_type": "code",
   "execution_count": 7,
   "metadata": {
    "scrolled": true
   },
   "outputs": [
    {
     "name": "stdout",
     "output_type": "stream",
     "text": [
      "Accuracy:  0.6155198704142721\n"
     ]
    }
   ],
   "source": [
    "import pandas as pd\n",
    "import numpy as np\n",
    "import math\n",
    "from sklearn.linear_model import LinearRegression\n",
    "from sklearn.preprocessing import StandardScaler\n",
    "#from sklearn.model_selection import train_test_split\n",
    "\n",
    "lin_reg = pd.read_csv('Concrete_Data.csv')\n",
    "#lin_reg\n",
    "#lin_reg.dtypes\n",
    "X = lin_reg.drop(columns ='Concrete compressive strength(MPa, megapascals) ', axis  = 1)\n",
    "Y = lin_reg['Concrete compressive strength(MPa, megapascals) ']\n",
    "#X_train, X_test, Y_train, Y_test = train_test_split(X, Y, test_size = 0.3)\n",
    "scaler = StandardScaler()\n",
    "scaler.fit(X)\n",
    "X = scaler.transform(X)\n",
    "model = LinearRegression()\n",
    "model.fit(X,Y)\n",
    "print('Accuracy: ', model.score(X, Y))"
   ]
  },
  {
   "cell_type": "markdown",
   "metadata": {},
   "source": [
    "## Using numpy Library"
   ]
  },
  {
   "cell_type": "code",
   "execution_count": 8,
   "metadata": {},
   "outputs": [
    {
     "name": "stdout",
     "output_type": "stream",
     "text": [
      "1578311.619707398\n",
      "1020919.6949904357\n",
      "995317.2552843514\n",
      "994141.2696092139\n",
      "994087.2535730858\n",
      "994084.772478104\n",
      "994084.6585150515\n",
      "994084.6532804384\n",
      "994084.6530399972\n",
      "994084.6530289534\n",
      "994084.6530284466\n",
      "994084.6530284232\n",
      "994084.6530284231\n",
      "994084.6530284216\n",
      "994084.6530284219\n",
      "994084.6530284206\n",
      "994084.6530284215\n",
      "994084.653028422\n",
      "994084.6530284218\n",
      "994084.653028422\n",
      "[  0.98845478   0.48662547   0.12170312   0.55496524   0.75307825\n",
      "   0.68152023   0.87609459 -12.9259803 ]\n"
     ]
    }
   ],
   "source": [
    "\n",
    "\n",
    "data = pd.read_csv('Concrete_Data.csv')\n",
    "data.head()\n",
    "X = data.drop(columns ='Concrete compressive strength(MPa, megapascals) ', axis  = 1)\n",
    "Y = data['Concrete compressive strength(MPa, megapascals) ']\n",
    "n = len(Y)\n",
    "X_array = np.asarray(X)\n",
    "Y_array = np.asarray(Y)\n",
    "\n",
    "theta = np.random.uniform(0.0, 1.0, size=8)\n",
    "#print(theta)\n",
    "alpha = 0.0002\n",
    "\n",
    "def hypothesis(x, theta):\n",
    "    # sum of multiplications of attributes (x0, x1, x2,....,xd) with coefficients(theta 0, theta 1,....theta n)\n",
    "    y = np.dot(np.transpose(theta), x)\n",
    "    return y\n",
    "\n",
    "\n",
    "def gradient_descent(x, y, n, theta, alpha):\n",
    "    #x = [x0, x1, ...., xd] Explanatory Variables,  vector of (d+1) * 1 dimensions, with n rows in dataset it is n* (d+1)\n",
    "    #y = Dependant Variable, here it is a vector of n * 1 dimensions\n",
    "    #n = number of examples in the dataset\n",
    "    #theta = coefficients, here it is a vector of (d+1) * 1 dimensions\n",
    "    #alpha = learning rate\n",
    "    time_iterations=20\n",
    "    for z in range(time_iterations):\n",
    "        for j in range(len(theta)):\n",
    "            derivative_cost_function = 0\n",
    "            cost_function = 0\n",
    "            for i in range(n):\n",
    "                derivative_cost_function += (hypothesis(x[i], theta) - y[i]) * x[i][j]\n",
    "                cost_function += (hypothesis(x[i], theta) - y[i]) * (hypothesis(x[i], theta) - y[i])\n",
    "        derivative_cost_function *= 1 / n\n",
    "        cost_function *= 1 /(2 * n) \n",
    "        theta[j] = theta[j] - (alpha * derivative_cost_function)\n",
    "        #print(theta)\n",
    "        print(cost_function)\n",
    "    return theta\n",
    "\n",
    "print((gradient_descent(X_array, Y_array, n, theta, alpha)))\n"
   ]
  },
  {
   "cell_type": "code",
   "execution_count": null,
   "metadata": {},
   "outputs": [],
   "source": []
  }
 ],
 "metadata": {
  "kernelspec": {
   "display_name": "Python 3",
   "language": "python",
   "name": "python3"
  },
  "language_info": {
   "codemirror_mode": {
    "name": "ipython",
    "version": 3
   },
   "file_extension": ".py",
   "mimetype": "text/x-python",
   "name": "python",
   "nbconvert_exporter": "python",
   "pygments_lexer": "ipython3",
   "version": "3.7.3"
  }
 },
 "nbformat": 4,
 "nbformat_minor": 2
}
