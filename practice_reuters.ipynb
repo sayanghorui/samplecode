{
  "nbformat": 4,
  "nbformat_minor": 0,
  "metadata": {
    "colab": {
      "name": "practice_reuters.ipynb",
      "provenance": [],
      "include_colab_link": true
    },
    "kernelspec": {
      "name": "python3",
      "display_name": "Python 3"
    },
    "accelerator": "GPU"
  },
  "cells": [
    {
      "cell_type": "markdown",
      "metadata": {
        "id": "view-in-github",
        "colab_type": "text"
      },
      "source": [
        "<a href=\"https://colab.research.google.com/github/sayanghorui/samplecode/blob/master/practice_reuters.ipynb\" target=\"_parent\"><img src=\"https://colab.research.google.com/assets/colab-badge.svg\" alt=\"Open In Colab\"/></a>"
      ]
    },
    {
      "cell_type": "code",
      "metadata": {
        "id": "pClSMtZ7aAxp",
        "colab_type": "code",
        "outputId": "5614e683-306f-4b8e-9a77-e47d43b1616d",
        "colab": {
          "base_uri": "https://localhost:8080/",
          "height": 80
        }
      },
      "source": [
        "from keras.datasets import reuters\n",
        "import numpy as np"
      ],
      "execution_count": 0,
      "outputs": [
        {
          "output_type": "stream",
          "text": [
            "Using TensorFlow backend.\n"
          ],
          "name": "stderr"
        },
        {
          "output_type": "display_data",
          "data": {
            "text/html": [
              "<p style=\"color: red;\">\n",
              "The default version of TensorFlow in Colab will soon switch to TensorFlow 2.x.<br>\n",
              "We recommend you <a href=\"https://www.tensorflow.org/guide/migrate\" target=\"_blank\">upgrade</a> now \n",
              "or ensure your notebook will continue to use TensorFlow 1.x via the <code>%tensorflow_version 1.x</code> magic:\n",
              "<a href=\"https://colab.research.google.com/notebooks/tensorflow_version.ipynb\" target=\"_blank\">more info</a>.</p>\n"
            ],
            "text/plain": [
              "<IPython.core.display.HTML object>"
            ]
          },
          "metadata": {
            "tags": []
          }
        }
      ]
    },
    {
      "cell_type": "code",
      "metadata": {
        "id": "TvATlOXNbAcw",
        "colab_type": "code",
        "outputId": "04408ddb-cd93-40c8-ed61-aa437e469050",
        "colab": {
          "base_uri": "https://localhost:8080/",
          "height": 51
        }
      },
      "source": [
        "(train_data, train_labels), (test_data, test_labels) = reuters.load_data(num_words=10000)"
      ],
      "execution_count": 0,
      "outputs": [
        {
          "output_type": "stream",
          "text": [
            "Downloading data from https://s3.amazonaws.com/text-datasets/reuters.npz\n",
            "2113536/2110848 [==============================] - 0s 0us/step\n"
          ],
          "name": "stdout"
        }
      ]
    },
    {
      "cell_type": "code",
      "metadata": {
        "id": "-204Tp6GbXhd",
        "colab_type": "code",
        "outputId": "65aa6b72-9ae5-4af5-b945-77c25b6e6d2f",
        "colab": {
          "base_uri": "https://localhost:8080/",
          "height": 34
        }
      },
      "source": [
        "len(train_data)"
      ],
      "execution_count": 0,
      "outputs": [
        {
          "output_type": "execute_result",
          "data": {
            "text/plain": [
              "8982"
            ]
          },
          "metadata": {
            "tags": []
          },
          "execution_count": 3
        }
      ]
    },
    {
      "cell_type": "code",
      "metadata": {
        "id": "m_jKfmfr6bE8",
        "colab_type": "code",
        "outputId": "95e7f0b5-069e-412a-9488-a36142a362d7",
        "colab": {
          "base_uri": "https://localhost:8080/",
          "height": 34
        }
      },
      "source": [
        "len(test_data)"
      ],
      "execution_count": 0,
      "outputs": [
        {
          "output_type": "execute_result",
          "data": {
            "text/plain": [
              "2246"
            ]
          },
          "metadata": {
            "tags": []
          },
          "execution_count": 4
        }
      ]
    },
    {
      "cell_type": "code",
      "metadata": {
        "id": "HLu_J88J6oYa",
        "colab_type": "code",
        "outputId": "564ba682-d182-4012-a52b-0315cb9305bf",
        "colab": {
          "base_uri": "https://localhost:8080/",
          "height": 88
        }
      },
      "source": [
        "word_index = reuters.get_word_index()\n",
        "reverse_word_index = dict([(value, key) for (key, value) in word_index.items()])\n",
        "decoded_newswire = ' '.join([reverse_word_index.get(i-3,'?') for i in train_data[0]])\n",
        "decoded_newswire"
      ],
      "execution_count": 0,
      "outputs": [
        {
          "output_type": "stream",
          "text": [
            "Downloading data from https://s3.amazonaws.com/text-datasets/reuters_word_index.json\n",
            "557056/550378 [==============================] - 0s 1us/step\n"
          ],
          "name": "stdout"
        },
        {
          "output_type": "execute_result",
          "data": {
            "text/plain": [
              "'? ? ? said as a result of its december acquisition of space co it expects earnings per share in 1987 of 1 15 to 1 30 dlrs per share up from 70 cts in 1986 the company said pretax net should rise to nine to 10 mln dlrs from six mln dlrs in 1986 and rental operation revenues to 19 to 22 mln dlrs from 12 5 mln dlrs it said cash flow per share this year should be 2 50 to three dlrs reuter 3'"
            ]
          },
          "metadata": {
            "tags": []
          },
          "execution_count": 5
        }
      ]
    },
    {
      "cell_type": "code",
      "metadata": {
        "id": "f2jQZGJ07B6W",
        "colab_type": "code",
        "colab": {}
      },
      "source": [
        "def vectorize_sequences(sequences, dimension=10000):\n",
        "  results = np.zeros((len(sequences),dimension))\n",
        "  for i, sequence in enumerate(sequences):\n",
        "    results[i, sequence] = 1\n",
        "  return results"
      ],
      "execution_count": 0,
      "outputs": []
    },
    {
      "cell_type": "code",
      "metadata": {
        "id": "sjkENxWI7MmW",
        "colab_type": "code",
        "outputId": "7084b737-d30d-4339-c43d-32602e0baab2",
        "colab": {
          "base_uri": "https://localhost:8080/",
          "height": 34
        }
      },
      "source": [
        "x_train = vectorize_sequences(train_data)\n",
        "x_test = vectorize_sequences(test_data)"
      ],
      "execution_count": 0,
      "outputs": [
        {
          "output_type": "execute_result",
          "data": {
            "text/plain": [
              "array([0., 1., 1., ..., 0., 0., 0.])"
            ]
          },
          "metadata": {
            "tags": []
          },
          "execution_count": 6
        }
      ]
    },
    {
      "cell_type": "code",
      "metadata": {
        "id": "9XUzi8fb9M3J",
        "colab_type": "code",
        "colab": {}
      },
      "source": [
        "from keras.utils import to_categorical\n",
        "\n",
        "one_hot_train_labels = to_categorical(train_labels)\n",
        "one_hot_test_labels = to_categorical(test_labels)\n"
      ],
      "execution_count": 0,
      "outputs": []
    },
    {
      "cell_type": "code",
      "metadata": {
        "id": "roa8JAVnCQBc",
        "colab_type": "code",
        "colab": {}
      },
      "source": [
        "from keras import models\n",
        "from keras import layers"
      ],
      "execution_count": 0,
      "outputs": []
    },
    {
      "cell_type": "code",
      "metadata": {
        "id": "WzQKTFB9DPE2",
        "colab_type": "code",
        "outputId": "0e83a2e8-021c-458e-cbf9-68e4b07794ce",
        "colab": {
          "base_uri": "https://localhost:8080/",
          "height": 139
        }
      },
      "source": [
        "model = models.Sequential()\n",
        "model.add(layers.Dense(64, activation='relu', input_shape = (10000,)))\n",
        "model.add(layers.Dense(64, activation='relu'))\n",
        "model.add(layers.Dense(46, activation='softmax'))"
      ],
      "execution_count": 0,
      "outputs": [
        {
          "output_type": "stream",
          "text": [
            "WARNING:tensorflow:From /usr/local/lib/python3.6/dist-packages/keras/backend/tensorflow_backend.py:66: The name tf.get_default_graph is deprecated. Please use tf.compat.v1.get_default_graph instead.\n",
            "\n",
            "WARNING:tensorflow:From /usr/local/lib/python3.6/dist-packages/keras/backend/tensorflow_backend.py:541: The name tf.placeholder is deprecated. Please use tf.compat.v1.placeholder instead.\n",
            "\n",
            "WARNING:tensorflow:From /usr/local/lib/python3.6/dist-packages/keras/backend/tensorflow_backend.py:4432: The name tf.random_uniform is deprecated. Please use tf.random.uniform instead.\n",
            "\n"
          ],
          "name": "stdout"
        }
      ]
    },
    {
      "cell_type": "code",
      "metadata": {
        "id": "Y9C5bqVHFU4r",
        "colab_type": "code",
        "outputId": "3320f4f2-ff22-4079-afd4-c0b73b32585b",
        "colab": {
          "base_uri": "https://localhost:8080/",
          "height": 105
        }
      },
      "source": [
        "model.compile(optimizer='rmsprop', loss='categorical_crossentropy', metrics=['accuracy'])"
      ],
      "execution_count": 0,
      "outputs": [
        {
          "output_type": "stream",
          "text": [
            "WARNING:tensorflow:From /usr/local/lib/python3.6/dist-packages/keras/optimizers.py:793: The name tf.train.Optimizer is deprecated. Please use tf.compat.v1.train.Optimizer instead.\n",
            "\n",
            "WARNING:tensorflow:From /usr/local/lib/python3.6/dist-packages/keras/backend/tensorflow_backend.py:3576: The name tf.log is deprecated. Please use tf.math.log instead.\n",
            "\n"
          ],
          "name": "stdout"
        }
      ]
    },
    {
      "cell_type": "code",
      "metadata": {
        "id": "t_wxcfNQFmon",
        "colab_type": "code",
        "colab": {}
      },
      "source": [
        "x_val = x_train[:1000]\n",
        "partial_x_train = x_train[1000:]\n",
        "y_val = one_hot_train_labels[:1000]\n",
        "partial_y_train = one_hot_train_labels[1000:]"
      ],
      "execution_count": 0,
      "outputs": []
    },
    {
      "cell_type": "code",
      "metadata": {
        "id": "fClWlulKGEmB",
        "colab_type": "code",
        "outputId": "0ee950e5-3d7b-4e25-ba5e-8809c40ae3eb",
        "colab": {
          "base_uri": "https://localhost:8080/",
          "height": 1000
        }
      },
      "source": [
        "history = model.fit(partial_x_train, partial_y_train, batch_size= 512, epochs= 20, validation_data= (x_val,y_val))"
      ],
      "execution_count": 0,
      "outputs": [
        {
          "output_type": "stream",
          "text": [
            "WARNING:tensorflow:From /usr/local/lib/python3.6/dist-packages/tensorflow_core/python/ops/math_grad.py:1424: where (from tensorflow.python.ops.array_ops) is deprecated and will be removed in a future version.\n",
            "Instructions for updating:\n",
            "Use tf.where in 2.0, which has the same broadcast rule as np.where\n",
            "WARNING:tensorflow:From /usr/local/lib/python3.6/dist-packages/keras/backend/tensorflow_backend.py:1033: The name tf.assign_add is deprecated. Please use tf.compat.v1.assign_add instead.\n",
            "\n",
            "WARNING:tensorflow:From /usr/local/lib/python3.6/dist-packages/keras/backend/tensorflow_backend.py:1020: The name tf.assign is deprecated. Please use tf.compat.v1.assign instead.\n",
            "\n",
            "WARNING:tensorflow:From /usr/local/lib/python3.6/dist-packages/keras/backend/tensorflow_backend.py:3005: The name tf.Session is deprecated. Please use tf.compat.v1.Session instead.\n",
            "\n",
            "Train on 7982 samples, validate on 1000 samples\n",
            "Epoch 1/20\n",
            "WARNING:tensorflow:From /usr/local/lib/python3.6/dist-packages/keras/backend/tensorflow_backend.py:190: The name tf.get_default_session is deprecated. Please use tf.compat.v1.get_default_session instead.\n",
            "\n",
            "WARNING:tensorflow:From /usr/local/lib/python3.6/dist-packages/keras/backend/tensorflow_backend.py:197: The name tf.ConfigProto is deprecated. Please use tf.compat.v1.ConfigProto instead.\n",
            "\n",
            "WARNING:tensorflow:From /usr/local/lib/python3.6/dist-packages/keras/backend/tensorflow_backend.py:207: The name tf.global_variables is deprecated. Please use tf.compat.v1.global_variables instead.\n",
            "\n",
            "WARNING:tensorflow:From /usr/local/lib/python3.6/dist-packages/keras/backend/tensorflow_backend.py:216: The name tf.is_variable_initialized is deprecated. Please use tf.compat.v1.is_variable_initialized instead.\n",
            "\n",
            "WARNING:tensorflow:From /usr/local/lib/python3.6/dist-packages/keras/backend/tensorflow_backend.py:223: The name tf.variables_initializer is deprecated. Please use tf.compat.v1.variables_initializer instead.\n",
            "\n",
            "7982/7982 [==============================] - 6s 716us/step - loss: 2.6760 - acc: 0.5113 - val_loss: 1.7834 - val_acc: 0.6370\n",
            "Epoch 2/20\n",
            "7982/7982 [==============================] - 1s 64us/step - loss: 1.4300 - acc: 0.7136 - val_loss: 1.2943 - val_acc: 0.7280\n",
            "Epoch 3/20\n",
            "7982/7982 [==============================] - 1s 65us/step - loss: 1.0342 - acc: 0.7868 - val_loss: 1.1218 - val_acc: 0.7760\n",
            "Epoch 4/20\n",
            "7982/7982 [==============================] - 1s 63us/step - loss: 0.8146 - acc: 0.8322 - val_loss: 1.0502 - val_acc: 0.7820\n",
            "Epoch 5/20\n",
            "7982/7982 [==============================] - 1s 67us/step - loss: 0.6509 - acc: 0.8663 - val_loss: 0.9823 - val_acc: 0.7930\n",
            "Epoch 6/20\n",
            "7982/7982 [==============================] - 0s 63us/step - loss: 0.5258 - acc: 0.8931 - val_loss: 0.9674 - val_acc: 0.7870\n",
            "Epoch 7/20\n",
            "7982/7982 [==============================] - 1s 64us/step - loss: 0.4235 - acc: 0.9093 - val_loss: 0.9174 - val_acc: 0.8070\n",
            "Epoch 8/20\n",
            "7982/7982 [==============================] - 0s 63us/step - loss: 0.3525 - acc: 0.9214 - val_loss: 0.8924 - val_acc: 0.8130\n",
            "Epoch 9/20\n",
            "7982/7982 [==============================] - 1s 64us/step - loss: 0.2904 - acc: 0.9365 - val_loss: 0.9222 - val_acc: 0.8030\n",
            "Epoch 10/20\n",
            "7982/7982 [==============================] - 0s 62us/step - loss: 0.2502 - acc: 0.9434 - val_loss: 0.9026 - val_acc: 0.8070\n",
            "Epoch 11/20\n",
            "7982/7982 [==============================] - 1s 63us/step - loss: 0.2095 - acc: 0.9479 - val_loss: 0.9176 - val_acc: 0.8120\n",
            "Epoch 12/20\n",
            "7982/7982 [==============================] - 1s 63us/step - loss: 0.1883 - acc: 0.9508 - val_loss: 0.9277 - val_acc: 0.8120\n",
            "Epoch 13/20\n",
            "7982/7982 [==============================] - 1s 64us/step - loss: 0.1667 - acc: 0.9535 - val_loss: 0.9364 - val_acc: 0.8190\n",
            "Epoch 14/20\n",
            "7982/7982 [==============================] - 1s 64us/step - loss: 0.1523 - acc: 0.9545 - val_loss: 0.9621 - val_acc: 0.8150\n",
            "Epoch 15/20\n",
            "7982/7982 [==============================] - 0s 61us/step - loss: 0.1429 - acc: 0.9533 - val_loss: 0.9756 - val_acc: 0.8120\n",
            "Epoch 16/20\n",
            "7982/7982 [==============================] - 1s 63us/step - loss: 0.1313 - acc: 0.9574 - val_loss: 0.9873 - val_acc: 0.8160\n",
            "Epoch 17/20\n",
            "7982/7982 [==============================] - 0s 62us/step - loss: 0.1266 - acc: 0.9572 - val_loss: 0.9826 - val_acc: 0.8180\n",
            "Epoch 18/20\n",
            "7982/7982 [==============================] - 1s 63us/step - loss: 0.1222 - acc: 0.9572 - val_loss: 1.0433 - val_acc: 0.8110\n",
            "Epoch 19/20\n",
            "7982/7982 [==============================] - 0s 62us/step - loss: 0.1147 - acc: 0.9575 - val_loss: 1.0869 - val_acc: 0.7930\n",
            "Epoch 20/20\n",
            "7982/7982 [==============================] - 0s 62us/step - loss: 0.1138 - acc: 0.9582 - val_loss: 1.0403 - val_acc: 0.8110\n"
          ],
          "name": "stdout"
        }
      ]
    },
    {
      "cell_type": "code",
      "metadata": {
        "id": "GSKK-_9DHb8G",
        "colab_type": "code",
        "outputId": "53c893b3-e44d-4839-c625-af5f5f1f788a",
        "colab": {
          "base_uri": "https://localhost:8080/",
          "height": 295
        }
      },
      "source": [
        "import matplotlib.pyplot as plt\n",
        "\n",
        "history_dict = history.history\n",
        "loss_values = history_dict['loss']\n",
        "val_loss_values = history_dict['val_loss']\n",
        "\n",
        "epochs = range(1, len(history_dict['acc']) + 1)\n",
        "\n",
        "plt.plot(epochs, loss_values, 'r', label = 'Training Loss')\n",
        "plt.plot(epochs, val_loss_values, 'b', label = 'Validation Loss')\n",
        "plt.title('Training and Validation Loss')\n",
        "plt.xlabel('Epochs')\n",
        "plt.ylabel('Loss')\n",
        "plt.legend()\n",
        "\n",
        "plt.show()"
      ],
      "execution_count": 0,
      "outputs": [
        {
          "output_type": "display_data",
          "data": {
            "image/png": "[encoded data removed]",
            "text/plain": [
              "<Figure size 432x288 with 1 Axes>"
            ]
          },
          "metadata": {
            "tags": []
          }
        }
      ]
    },
    {
      "cell_type": "code",
      "metadata": {
        "id": "pLyUuYj5HhLW",
        "colab_type": "code",
        "outputId": "acb00262-643e-48c4-e97c-b7cf0fe7bae9",
        "colab": {
          "base_uri": "https://localhost:8080/",
          "height": 295
        }
      },
      "source": [
        "acc_values = history_dict['acc']\n",
        "val_acc_values = history_dict['val_acc']\n",
        "\n",
        "plt.plot(epochs, acc_values, 'r', label = 'Training Accuracy')\n",
        "plt.plot(epochs, val_acc_values, 'b', label = 'Validation Accuracy')\n",
        "plt.title('Training and Validation Accuracy')\n",
        "plt.xlabel('Epochs')\n",
        "plt.ylabel('Accuracy')\n",
        "plt.legend()\n",
        "\n",
        "plt.show()"
      ],
      "execution_count": 0,
      "outputs": [
        {
          "output_type": "display_data",
          "data": {
            "image/png": "[encoded data removed]",
            "text/plain": [
              "<Figure size 432x288 with 1 Axes>"
            ]
          },
          "metadata": {
            "tags": []
          }
        }
      ]
    },
    {
      "cell_type": "code",
      "metadata": {
        "id": "KEuyLc_yIXsX",
        "colab_type": "code",
        "outputId": "ff562d7c-48e8-4a11-bd63-553b3e629115",
        "colab": {
          "base_uri": "https://localhost:8080/",
          "height": 340
        }
      },
      "source": [
        "model1 = models.Sequential()\n",
        "\n",
        "model1.add(layers.Dense(64, activation='relu', input_shape=(10000,)))\n",
        "model1.add(layers.Dense(64, activation='relu'))\n",
        "model1.add(layers.Dense(46, activation='softmax'))\n",
        "\n",
        "model1.compile(optimizer='rmsprop', loss='categorical_crossentropy', metrics=['accuracy'])\n",
        "\n",
        "model1.fit(partial_x_train, partial_y_train, batch_size= 512, epochs= 8, validation_data= (x_val,y_val))\n",
        "results = model1.evaluate(x_test, one_hot_test_labels)\n",
        "print(results)"
      ],
      "execution_count": 0,
      "outputs": [
        {
          "output_type": "stream",
          "text": [
            "Train on 7982 samples, validate on 1000 samples\n",
            "Epoch 1/8\n",
            "7982/7982 [==============================] - 1s 99us/step - loss: 2.6335 - acc: 0.5192 - val_loss: 1.7449 - val_acc: 0.6340\n",
            "Epoch 2/8\n",
            "7982/7982 [==============================] - 1s 63us/step - loss: 1.4117 - acc: 0.7061 - val_loss: 1.2983 - val_acc: 0.7130\n",
            "Epoch 3/8\n",
            "7982/7982 [==============================] - 0s 62us/step - loss: 1.0388 - acc: 0.7754 - val_loss: 1.1188 - val_acc: 0.7580\n",
            "Epoch 4/8\n",
            "7982/7982 [==============================] - 1s 63us/step - loss: 0.8241 - acc: 0.8250 - val_loss: 1.0192 - val_acc: 0.7840\n",
            "Epoch 5/8\n",
            "7982/7982 [==============================] - 1s 64us/step - loss: 0.6566 - acc: 0.8623 - val_loss: 0.9616 - val_acc: 0.7890\n",
            "Epoch 6/8\n",
            "7982/7982 [==============================] - 1s 64us/step - loss: 0.5238 - acc: 0.8905 - val_loss: 0.9271 - val_acc: 0.8010\n",
            "Epoch 7/8\n",
            "7982/7982 [==============================] - 1s 65us/step - loss: 0.4217 - acc: 0.9142 - val_loss: 0.9168 - val_acc: 0.8010\n",
            "Epoch 8/8\n",
            "7982/7982 [==============================] - 1s 65us/step - loss: 0.3471 - acc: 0.9260 - val_loss: 0.8922 - val_acc: 0.8110\n",
            "2246/2246 [==============================] - 0s 93us/step\n",
            "[0.9800843241378228, 0.7804986643186129]\n"
          ],
          "name": "stdout"
        }
      ]
    },
    {
      "cell_type": "code",
      "metadata": {
        "id": "ZP6pFNAdKV-q",
        "colab_type": "code",
        "colab": {}
      },
      "source": [
        "predictions = model1.predict(x_test)"
      ],
      "execution_count": 0,
      "outputs": []
    },
    {
      "cell_type": "code",
      "metadata": {
        "id": "6o-htAeUKdJ4",
        "colab_type": "code",
        "outputId": "8e1d48b2-dde2-4696-cd8c-cab128a5fe58",
        "colab": {
          "base_uri": "https://localhost:8080/",
          "height": 221
        }
      },
      "source": [
        "predictions[110]"
      ],
      "execution_count": 0,
      "outputs": [
        {
          "output_type": "execute_result",
          "data": {
            "text/plain": [
              "array([7.8596377e-06, 2.5730242e-05, 8.8499505e-08, 1.2036156e-04,\n",
              "       1.4573471e-03, 8.6589074e-07, 2.9441770e-07, 1.5857801e-06,\n",
              "       4.5206887e-04, 3.6726604e-08, 1.6218027e-06, 3.2762739e-05,\n",
              "       5.5641649e-05, 2.3688385e-04, 3.8386643e-05, 1.0029398e-07,\n",
              "       1.9324760e-07, 5.4826014e-06, 1.3052893e-06, 9.9487656e-01,\n",
              "       2.1374901e-03, 2.5832351e-05, 2.8391057e-06, 4.2537857e-05,\n",
              "       1.5040439e-05, 1.2930434e-06, 6.8129509e-07, 2.5341862e-07,\n",
              "       2.4138518e-07, 2.2243860e-06, 1.9653959e-05, 7.9459659e-07,\n",
              "       1.0800268e-08, 2.1387755e-06, 8.5656502e-06, 2.5614156e-06,\n",
              "       4.1966823e-06, 2.8330862e-07, 6.4833507e-08, 3.1199161e-05,\n",
              "       3.8356471e-04, 2.2765216e-06, 2.8693646e-07, 2.4851920e-07,\n",
              "       1.6639551e-07, 3.9957800e-07], dtype=float32)"
            ]
          },
          "metadata": {
            "tags": []
          },
          "execution_count": 33
        }
      ]
    },
    {
      "cell_type": "code",
      "metadata": {
        "id": "4TtLGrrfKkV3",
        "colab_type": "code",
        "outputId": "0289e97c-c04b-421e-d223-ff08fd5b3b2c",
        "colab": {
          "base_uri": "https://localhost:8080/",
          "height": 34
        }
      },
      "source": [
        "np.argmax(predictions[110])"
      ],
      "execution_count": 0,
      "outputs": [
        {
          "output_type": "execute_result",
          "data": {
            "text/plain": [
              "19"
            ]
          },
          "metadata": {
            "tags": []
          },
          "execution_count": 31
        }
      ]
    }
  ]
}