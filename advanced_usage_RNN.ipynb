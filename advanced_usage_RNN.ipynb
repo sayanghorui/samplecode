{
  "nbformat": 4,
  "nbformat_minor": 0,
  "metadata": {
    "colab": {
      "name": "advanced_usage_RNN.ipynb",
      "provenance": [],
      "include_colab_link": true
    },
    "kernelspec": {
      "name": "python3",
      "display_name": "Python 3"
    },
    "accelerator": "GPU"
  },
  "cells": [
    {
      "cell_type": "markdown",
      "metadata": {
        "id": "view-in-github",
        "colab_type": "text"
      },
      "source": [
        "<a href=\"https://colab.research.google.com/github/sayanghorui/samplecode/blob/master/advanced_usage_RNN.ipynb\" target=\"_parent\"><img src=\"https://colab.research.google.com/assets/colab-badge.svg\" alt=\"Open In Colab\"/></a>"
      ]
    },
    {
      "cell_type": "markdown",
      "metadata": {
        "id": "wy2sjHWXFnOW",
        "colab_type": "text"
      },
      "source": [
        "Inspect the Temparature data:"
      ]
    },
    {
      "cell_type": "code",
      "metadata": {
        "id": "fXuGwbcr9LGe",
        "colab_type": "code",
        "outputId": "55dd47e2-fc64-4277-fd69-f3768d9c4237",
        "colab": {
          "base_uri": "https://localhost:8080/",
          "height": 122
        }
      },
      "source": [
        "from google.colab import drive\n",
        "drive.mount('Mydrive')"
      ],
      "execution_count": 1,
      "outputs": [
        {
          "output_type": "stream",
          "text": [
            "Go to this URL in a browser: https://accounts.google.com/o/oauth2/auth?client_id=947318989803-6bn6qk8qdgf4n4g3pfee6491hc0brc4i.apps.googleusercontent.com&redirect_uri=urn%3aietf%3awg%3aoauth%3a2.0%3aoob&response_type=code&scope=email%20https%3a%2f%2fwww.googleapis.com%2fauth%2fdocs.test%20https%3a%2f%2fwww.googleapis.com%2fauth%2fdrive%20https%3a%2f%2fwww.googleapis.com%2fauth%2fdrive.photos.readonly%20https%3a%2f%2fwww.googleapis.com%2fauth%2fpeopleapi.readonly\n",
            "\n",
            "Enter your authorization code:\n",
            "··········\n",
            "Mounted at Mydrive\n"
          ],
          "name": "stdout"
        }
      ]
    },
    {
      "cell_type": "code",
      "metadata": {
        "id": "WtY4exUR9w50",
        "colab_type": "code",
        "colab": {}
      },
      "source": [
        "data_path ='Mydrive/My Drive/ML_datasets/jena_climate_2009_2016.csv'\n",
        "\n",
        "f = open(data_path)\n",
        "data = f.read()\n",
        "f.close()"
      ],
      "execution_count": 0,
      "outputs": []
    },
    {
      "cell_type": "code",
      "metadata": {
        "id": "FRR6Wk6D-iMf",
        "colab_type": "code",
        "outputId": "f919d17e-0502-4242-fea8-5a4b37c74a87",
        "colab": {
          "base_uri": "https://localhost:8080/",
          "height": 71
        }
      },
      "source": [
        "lines = data.split('\\n')\n",
        "header = lines[0].split(',')\n",
        "lines = lines[1:]\n",
        "\n",
        "print(header)\n",
        "print(len(lines))"
      ],
      "execution_count": 3,
      "outputs": [
        {
          "output_type": "stream",
          "text": [
            "['\"Date Time\"', '\"p (mbar)\"', '\"T (degC)\"', '\"Tpot (K)\"', '\"Tdew (degC)\"', '\"rh (%)\"', '\"VPmax (mbar)\"', '\"VPact (mbar)\"', '\"VPdef (mbar)\"', '\"sh (g/kg)\"', '\"H2OC (mmol/mol)\"', '\"rho (g/m**3)\"', '\"wv (m/s)\"', '\"max. wv (m/s)\"', '\"wd (deg)\"']\n",
            "420551\n"
          ],
          "name": "stdout"
        }
      ]
    },
    {
      "cell_type": "markdown",
      "metadata": {
        "id": "LGHYRV3dFi4n",
        "colab_type": "text"
      },
      "source": [
        "Parse data:"
      ]
    },
    {
      "cell_type": "code",
      "metadata": {
        "id": "4rqO06rQBt3R",
        "colab_type": "code",
        "colab": {}
      },
      "source": [
        "import numpy as np\n",
        "\n",
        "float_data = np.zeros((len(lines), len(header) - 1))\n",
        "for i, line in enumerate(lines):\n",
        "  values = [float(x) for x in line.split(',')[1:]]\n",
        "  float_data[i, :] = values"
      ],
      "execution_count": 0,
      "outputs": []
    },
    {
      "cell_type": "markdown",
      "metadata": {
        "id": "RZmwHHBdGdem",
        "colab_type": "text"
      },
      "source": [
        "Temparature timeseries plot:"
      ]
    },
    {
      "cell_type": "code",
      "metadata": {
        "id": "oFmdqMJ5Fv91",
        "colab_type": "code",
        "outputId": "9367b8bf-0c5b-42b7-f9b1-ccf47dd17961",
        "colab": {
          "base_uri": "https://localhost:8080/",
          "height": 265
        }
      },
      "source": [
        "import matplotlib.pyplot as plt\n",
        "\n",
        "temp = float_data[:, 1] \n",
        "plt.plot(range(len(temp)), temp)\n",
        "plt.show()"
      ],
      "execution_count": 24,
      "outputs": [
        {
          "output_type": "display_data",
          "data": {
            "image/png": "[encoded data removed]",
            "text/plain": [
              "<Figure size 432x288 with 1 Axes>"
            ]
          },
          "metadata": {
            "tags": []
          }
        }
      ]
    },
    {
      "cell_type": "markdown",
      "metadata": {
        "id": "q_XE-WSLGvZm",
        "colab_type": "text"
      },
      "source": [
        "Plotting first 10 days of Temparature timeseries:"
      ]
    },
    {
      "cell_type": "code",
      "metadata": {
        "id": "tI0yTaQXG1MO",
        "colab_type": "code",
        "outputId": "61a8e0e4-0ff5-4ddb-ab87-4ad0dd1ee344",
        "colab": {
          "base_uri": "https://localhost:8080/",
          "height": 265
        }
      },
      "source": [
        "plt.plot(range(1440), temp[:1440])\n",
        "plt.show()"
      ],
      "execution_count": 6,
      "outputs": [
        {
          "output_type": "display_data",
          "data": {
            "image/png": "[encoded data removed]",
            "text/plain": [
              "<Figure size 432x288 with 1 Axes>"
            ]
          },
          "metadata": {
            "tags": []
          }
        }
      ]
    },
    {
      "cell_type": "markdown",
      "metadata": {
        "id": "qWgqOIZWTCCJ",
        "colab_type": "text"
      },
      "source": [
        "Normalize the data:"
      ]
    },
    {
      "cell_type": "code",
      "metadata": {
        "id": "RoW0bEEiTGYT",
        "colab_type": "code",
        "colab": {}
      },
      "source": [
        "mean = float_data[:200000].mean(axis=0)\n",
        "float_data -= mean\n",
        "std = float_data[:200000].std(axis=0)\n",
        "float_data /= std"
      ],
      "execution_count": 0,
      "outputs": []
    },
    {
      "cell_type": "code",
      "metadata": {
        "id": "Af2--3B4TlHv",
        "colab_type": "code",
        "outputId": "9cd01587-1f1a-4300-8441-ee711ed6095b",
        "colab": {
          "base_uri": "https://localhost:8080/",
          "height": 119
        }
      },
      "source": [
        "float_data[100938:100940]"
      ],
      "execution_count": 8,
      "outputs": [
        {
          "output_type": "execute_result",
          "data": {
            "text/plain": [
              "array([[-1.31789941, -2.35948615, -2.24570203, -2.48380129,  0.76796186,\n",
              "        -1.41926761, -1.69766953, -0.78422463, -1.68634755, -1.68981715,\n",
              "         1.99124518,  0.54598535,  0.46359608, -1.76528498],\n",
              "       [-1.31672023, -2.35383802, -2.24011747, -2.49077883,  0.72611414,\n",
              "        -1.41796708, -1.69766953, -0.78009269, -1.68634755, -1.68981715,\n",
              "         1.985832  ,  0.82581221,  1.01279367, -1.81897192]])"
            ]
          },
          "metadata": {
            "tags": []
          },
          "execution_count": 8
        }
      ]
    },
    {
      "cell_type": "markdown",
      "metadata": {
        "id": "7gscYhqYRb7h",
        "colab_type": "text"
      },
      "source": [
        "Generator function:"
      ]
    },
    {
      "cell_type": "code",
      "metadata": {
        "id": "s1vOb1qsRVy_",
        "colab_type": "code",
        "colab": {}
      },
      "source": [
        "def generator(data, lookback, delay, min_index, max_index,\n",
        "              shuffle=False, batch_size=128, step=6):\n",
        "    if max_index is None:\n",
        "        max_index = len(data) - delay - 1\n",
        "    i = min_index + lookback\n",
        "    while 1:\n",
        "        if shuffle:\n",
        "            rows = np.random.randint(\n",
        "                min_index + lookback, max_index, size=batch_size)\n",
        "        else:\n",
        "            if i + batch_size >= max_index:\n",
        "                i = min_index + lookback\n",
        "            rows = np.arange(i, min(i + batch_size, max_index))\n",
        "            i += len(rows)\n",
        "\n",
        "        samples = np.zeros((len(rows),\n",
        "                           lookback // step,\n",
        "                           data.shape[-1]))\n",
        "        targets = np.zeros((len(rows),))\n",
        "        for j, row in enumerate(rows):\n",
        "            indices = range(rows[j] - lookback, rows[j], step)\n",
        "            samples[j] = data[indices]\n",
        "            targets[j] = data[rows[j] + delay][1]\n",
        "        yield samples, targets"
      ],
      "execution_count": 0,
      "outputs": []
    },
    {
      "cell_type": "markdown",
      "metadata": {
        "id": "-h8I6gtrRkgU",
        "colab_type": "text"
      },
      "source": [
        "Training, Validation and Test Generator:"
      ]
    },
    {
      "cell_type": "code",
      "metadata": {
        "id": "umDweC9ARoZj",
        "colab_type": "code",
        "colab": {}
      },
      "source": [
        "lookback = 1440\n",
        "step = 6\n",
        "delay = 144\n",
        "batch_size = 128\n",
        "\n",
        "train_gen = generator(float_data,lookback=lookback,delay=delay,min_index=0,max_index=200000,shuffle=True,step=step,batch_size=batch_size)\n",
        "val_gen = generator(float_data,lookback=lookback,delay=delay,min_index=200001,max_index=300000,step=step,batch_size=batch_size)\n",
        "test_gen = generator(float_data,lookback=lookback,delay=delay,min_index=300001,max_index=None,step=step,batch_size=batch_size)\n",
        "\n",
        "val_steps = (300000 - 200001 - lookback) // batch_size\n",
        "\n",
        "test_steps = (len(float_data) - 300001 - lookback) // batch_size"
      ],
      "execution_count": 0,
      "outputs": []
    },
    {
      "cell_type": "code",
      "metadata": {
        "id": "hSvTK693XSck",
        "colab_type": "code",
        "outputId": "89319fe0-9d81-47ec-81a6-1ab0393c4e0e",
        "colab": {
          "base_uri": "https://localhost:8080/",
          "height": 85
        }
      },
      "source": [
        "for data_batch, labels_batch in train_gen:\n",
        "  print('data batch shape:', data_batch.shape)\n",
        "  print('labels batch shape:', labels_batch.shape)\n",
        "  break\n",
        "print(data_batch[0][-1][1])\n",
        "print(labels_batch[0])"
      ],
      "execution_count": 11,
      "outputs": [
        {
          "output_type": "stream",
          "text": [
            "data batch shape: (128, 240, 14)\n",
            "labels batch shape: (128,)\n",
            "0.10083605112079307\n",
            "0.26237235705214296\n"
          ],
          "name": "stdout"
        }
      ]
    },
    {
      "cell_type": "markdown",
      "metadata": {
        "id": "iK3mAP-keRCL",
        "colab_type": "text"
      },
      "source": [
        "Non Machine Learning Baseline:"
      ]
    },
    {
      "cell_type": "code",
      "metadata": {
        "id": "Qc55i0kreU4r",
        "colab_type": "code",
        "colab": {}
      },
      "source": [
        "def evaluate_naive_method():\n",
        "    batch_maes = []\n",
        "    for step in range(val_steps):\n",
        "        samples, targets = next(val_gen)\n",
        "        preds = samples[:, -1, 1]\n",
        "        mae = np.mean(np.abs(preds - targets))\n",
        "        batch_maes.append(mae)\n",
        "    mae = np.mean(batch_maes)\n",
        "    print('mae:',mae)\n",
        "    print('Temp diff in Celsius:', (std[1] * mae))"
      ],
      "execution_count": 0,
      "outputs": []
    },
    {
      "cell_type": "code",
      "metadata": {
        "id": "tmtmtqoLgz3d",
        "colab_type": "code",
        "outputId": "8ae383be-dcfe-48ee-c386-81c589d05935",
        "colab": {
          "base_uri": "https://localhost:8080/",
          "height": 51
        }
      },
      "source": [
        "evaluate_naive_method()"
      ],
      "execution_count": 30,
      "outputs": [
        {
          "output_type": "stream",
          "text": [
            "mae: 0.2897359729905486\n",
            "Temp diff in Celsius: 2.564887434980494\n"
          ],
          "name": "stdout"
        }
      ]
    },
    {
      "cell_type": "markdown",
      "metadata": {
        "id": "vd8oNMB7huRA",
        "colab_type": "text"
      },
      "source": [
        "Basic Machine Learning model with Densely Coonected layers:"
      ]
    },
    {
      "cell_type": "code",
      "metadata": {
        "id": "-yphAepGhz0O",
        "colab_type": "code",
        "outputId": "26f63ab9-c6af-4361-81c0-9393bf6eb0d8",
        "colab": {
          "base_uri": "https://localhost:8080/",
          "height": 1000
        }
      },
      "source": [
        "from keras.models import Sequential\n",
        "from keras import layers\n",
        "from keras.optimizers import RMSprop\n",
        "\n",
        "model = Sequential()\n",
        "model.add(layers.Flatten(input_shape=(lookback // step, float_data.shape[-1])))\n",
        "model.add(layers.Dense(32, activation='relu'))\n",
        "model.add(layers.Dense(1))\n",
        "model.summary()\n",
        "\n",
        "model.compile(optimizer=RMSprop(), loss='mae')\n",
        "\n",
        "history = model.fit_generator(train_gen,steps_per_epoch=500,epochs=20,validation_data=val_gen,validation_steps=val_steps)"
      ],
      "execution_count": 31,
      "outputs": [
        {
          "output_type": "stream",
          "text": [
            "Using TensorFlow backend.\n"
          ],
          "name": "stderr"
        },
        {
          "output_type": "display_data",
          "data": {
            "text/html": [
              "<p style=\"color: red;\">\n",
              "The default version of TensorFlow in Colab will soon switch to TensorFlow 2.x.<br>\n",
              "We recommend you <a href=\"https://www.tensorflow.org/guide/migrate\" target=\"_blank\">upgrade</a> now \n",
              "or ensure your notebook will continue to use TensorFlow 1.x via the <code>%tensorflow_version 1.x</code> magic:\n",
              "<a href=\"https://colab.research.google.com/notebooks/tensorflow_version.ipynb\" target=\"_blank\">more info</a>.</p>\n"
            ],
            "text/plain": [
              "<IPython.core.display.HTML object>"
            ]
          },
          "metadata": {
            "tags": []
          }
        },
        {
          "output_type": "stream",
          "text": [
            "WARNING:tensorflow:From /usr/local/lib/python3.6/dist-packages/keras/backend/tensorflow_backend.py:66: The name tf.get_default_graph is deprecated. Please use tf.compat.v1.get_default_graph instead.\n",
            "\n",
            "WARNING:tensorflow:From /usr/local/lib/python3.6/dist-packages/keras/backend/tensorflow_backend.py:541: The name tf.placeholder is deprecated. Please use tf.compat.v1.placeholder instead.\n",
            "\n",
            "WARNING:tensorflow:From /usr/local/lib/python3.6/dist-packages/keras/backend/tensorflow_backend.py:4432: The name tf.random_uniform is deprecated. Please use tf.random.uniform instead.\n",
            "\n",
            "Model: \"sequential_1\"\n",
            "_________________________________________________________________\n",
            "Layer (type)                 Output Shape              Param #   \n",
            "=================================================================\n",
            "flatten_1 (Flatten)          (None, 3360)              0         \n",
            "_________________________________________________________________\n",
            "dense_1 (Dense)              (None, 32)                107552    \n",
            "_________________________________________________________________\n",
            "dense_2 (Dense)              (None, 1)                 33        \n",
            "=================================================================\n",
            "Total params: 107,585\n",
            "Trainable params: 107,585\n",
            "Non-trainable params: 0\n",
            "_________________________________________________________________\n",
            "WARNING:tensorflow:From /usr/local/lib/python3.6/dist-packages/keras/optimizers.py:793: The name tf.train.Optimizer is deprecated. Please use tf.compat.v1.train.Optimizer instead.\n",
            "\n",
            "WARNING:tensorflow:From /usr/local/lib/python3.6/dist-packages/keras/backend/tensorflow_backend.py:1033: The name tf.assign_add is deprecated. Please use tf.compat.v1.assign_add instead.\n",
            "\n",
            "WARNING:tensorflow:From /usr/local/lib/python3.6/dist-packages/keras/backend/tensorflow_backend.py:1020: The name tf.assign is deprecated. Please use tf.compat.v1.assign instead.\n",
            "\n",
            "WARNING:tensorflow:From /usr/local/lib/python3.6/dist-packages/keras/backend/tensorflow_backend.py:3005: The name tf.Session is deprecated. Please use tf.compat.v1.Session instead.\n",
            "\n",
            "Epoch 1/20\n",
            "WARNING:tensorflow:From /usr/local/lib/python3.6/dist-packages/keras/backend/tensorflow_backend.py:190: The name tf.get_default_session is deprecated. Please use tf.compat.v1.get_default_session instead.\n",
            "\n",
            "WARNING:tensorflow:From /usr/local/lib/python3.6/dist-packages/keras/backend/tensorflow_backend.py:197: The name tf.ConfigProto is deprecated. Please use tf.compat.v1.ConfigProto instead.\n",
            "\n",
            "WARNING:tensorflow:From /usr/local/lib/python3.6/dist-packages/keras/backend/tensorflow_backend.py:207: The name tf.global_variables is deprecated. Please use tf.compat.v1.global_variables instead.\n",
            "\n",
            "WARNING:tensorflow:From /usr/local/lib/python3.6/dist-packages/keras/backend/tensorflow_backend.py:216: The name tf.is_variable_initialized is deprecated. Please use tf.compat.v1.is_variable_initialized instead.\n",
            "\n",
            "WARNING:tensorflow:From /usr/local/lib/python3.6/dist-packages/keras/backend/tensorflow_backend.py:223: The name tf.variables_initializer is deprecated. Please use tf.compat.v1.variables_initializer instead.\n",
            "\n",
            "500/500 [==============================] - 21s 42ms/step - loss: 0.9756 - val_loss: 0.4344\n",
            "Epoch 2/20\n",
            "500/500 [==============================] - 11s 22ms/step - loss: 0.3292 - val_loss: 0.3204\n",
            "Epoch 3/20\n",
            "500/500 [==============================] - 11s 21ms/step - loss: 0.2794 - val_loss: 0.3492\n",
            "Epoch 4/20\n",
            "500/500 [==============================] - 11s 21ms/step - loss: 0.2626 - val_loss: 0.3013\n",
            "Epoch 5/20\n",
            "500/500 [==============================] - 11s 22ms/step - loss: 0.2511 - val_loss: 0.3197\n",
            "Epoch 6/20\n",
            "500/500 [==============================] - 11s 21ms/step - loss: 0.2436 - val_loss: 0.3571\n",
            "Epoch 7/20\n",
            "500/500 [==============================] - 10s 21ms/step - loss: 0.2367 - val_loss: 0.3117\n",
            "Epoch 8/20\n",
            "500/500 [==============================] - 11s 21ms/step - loss: 0.2313 - val_loss: 0.3219\n",
            "Epoch 9/20\n",
            "500/500 [==============================] - 11s 21ms/step - loss: 0.2261 - val_loss: 0.3146\n",
            "Epoch 10/20\n",
            "500/500 [==============================] - 10s 21ms/step - loss: 0.2230 - val_loss: 0.3280\n",
            "Epoch 11/20\n",
            "500/500 [==============================] - 11s 21ms/step - loss: 0.2197 - val_loss: 0.3531\n",
            "Epoch 12/20\n",
            "500/500 [==============================] - 11s 21ms/step - loss: 0.2166 - val_loss: 0.3339\n",
            "Epoch 13/20\n",
            "500/500 [==============================] - 11s 21ms/step - loss: 0.2145 - val_loss: 0.3474\n",
            "Epoch 14/20\n",
            "500/500 [==============================] - 11s 21ms/step - loss: 0.2125 - val_loss: 0.3276\n",
            "Epoch 15/20\n",
            "500/500 [==============================] - 11s 21ms/step - loss: 0.2104 - val_loss: 0.3216\n",
            "Epoch 16/20\n",
            "500/500 [==============================] - 11s 21ms/step - loss: 0.2083 - val_loss: 0.3430\n",
            "Epoch 17/20\n",
            "500/500 [==============================] - 11s 21ms/step - loss: 0.2072 - val_loss: 0.3275\n",
            "Epoch 18/20\n",
            "500/500 [==============================] - 11s 21ms/step - loss: 0.2047 - val_loss: 0.3351\n",
            "Epoch 19/20\n",
            "500/500 [==============================] - 11s 21ms/step - loss: 0.2033 - val_loss: 0.3334\n",
            "Epoch 20/20\n",
            "500/500 [==============================] - 11s 21ms/step - loss: 0.2008 - val_loss: 0.3522\n"
          ],
          "name": "stdout"
        }
      ]
    },
    {
      "cell_type": "code",
      "metadata": {
        "id": "atgkhPOUjjHr",
        "colab_type": "code",
        "outputId": "923c9108-acce-4c44-e6ee-fee65a5b6e14",
        "colab": {
          "base_uri": "https://localhost:8080/",
          "height": 281
        }
      },
      "source": [
        "import matplotlib.pyplot as plt\n",
        "\n",
        "loss = history.history['loss']\n",
        "val_loss = history.history['val_loss']\n",
        "\n",
        "epochs = range(len(loss))\n",
        "\n",
        "plt.figure()\n",
        "\n",
        "plt.plot(epochs, loss, 'b', label='Training loss')\n",
        "plt.plot(epochs, val_loss, 'g', label='Validation loss')\n",
        "plt.title('Training and validation loss')\n",
        "plt.legend()\n",
        "\n",
        "plt.show()"
      ],
      "execution_count": 32,
      "outputs": [
        {
          "output_type": "display_data",
          "data": {
            "image/png": "[encoded data removed]",
            "text/plain": [
              "<Figure size 432x288 with 1 Axes>"
            ]
          },
          "metadata": {
            "tags": []
          }
        }
      ]
    },
    {
      "cell_type": "markdown",
      "metadata": {
        "id": "MkYRcTK0kejw",
        "colab_type": "text"
      },
      "source": [
        "A Recurrent Baseline Model:"
      ]
    },
    {
      "cell_type": "code",
      "metadata": {
        "id": "o994PLuIkiJL",
        "colab_type": "code",
        "outputId": "0c970bff-79eb-46c2-b6a5-7df0e00563ac",
        "colab": {
          "base_uri": "https://localhost:8080/",
          "height": 768
        }
      },
      "source": [
        "from keras.models import Sequential\n",
        "from keras import layers\n",
        "from keras.optimizers import RMSprop\n",
        "\n",
        "model = Sequential()\n",
        "model.add(layers.GRU(32,input_shape=(None, float_data.shape[-1])))\n",
        "model.add(layers.Dense(1))\n",
        "\n",
        "model.compile(optimizer=RMSprop(), loss='mae')\n",
        "\n",
        "history = model.fit_generator(train_gen,steps_per_epoch=500,epochs=20,validation_data=val_gen,validation_steps=val_steps)"
      ],
      "execution_count": 0,
      "outputs": [
        {
          "output_type": "stream",
          "text": [
            "WARNING:tensorflow:From /usr/local/lib/python3.6/dist-packages/tensorflow_core/python/ops/math_grad.py:1424: where (from tensorflow.python.ops.array_ops) is deprecated and will be removed in a future version.\n",
            "Instructions for updating:\n",
            "Use tf.where in 2.0, which has the same broadcast rule as np.where\n",
            "Epoch 1/20\n",
            "500/500 [==============================] - 156s 311ms/step - loss: 0.3027 - val_loss: 0.2836\n",
            "Epoch 2/20\n",
            "500/500 [==============================] - 154s 308ms/step - loss: 0.2847 - val_loss: 0.2678\n",
            "Epoch 3/20\n",
            "500/500 [==============================] - 154s 308ms/step - loss: 0.2786 - val_loss: 0.2641\n",
            "Epoch 4/20\n",
            "500/500 [==============================] - 153s 305ms/step - loss: 0.2739 - val_loss: 0.2662\n",
            "Epoch 5/20\n",
            "500/500 [==============================] - 153s 305ms/step - loss: 0.2695 - val_loss: 0.2642\n",
            "Epoch 6/20\n",
            "500/500 [==============================] - 152s 303ms/step - loss: 0.2648 - val_loss: 0.2645\n",
            "Epoch 7/20\n",
            "500/500 [==============================] - 151s 302ms/step - loss: 0.2597 - val_loss: 0.2699\n",
            "Epoch 8/20\n",
            "500/500 [==============================] - 153s 307ms/step - loss: 0.2537 - val_loss: 0.2674\n",
            "Epoch 9/20\n",
            "500/500 [==============================] - 153s 307ms/step - loss: 0.2496 - val_loss: 0.2746\n",
            "Epoch 10/20\n",
            "500/500 [==============================] - 155s 311ms/step - loss: 0.2460 - val_loss: 0.2718\n",
            "Epoch 11/20\n",
            "500/500 [==============================] - 154s 307ms/step - loss: 0.2412 - val_loss: 0.2828\n",
            "Epoch 12/20\n",
            "500/500 [==============================] - 152s 304ms/step - loss: 0.2354 - val_loss: 0.2784\n",
            "Epoch 13/20\n",
            "500/500 [==============================] - 156s 312ms/step - loss: 0.2330 - val_loss: 0.2856\n",
            "Epoch 14/20\n",
            "500/500 [==============================] - 151s 301ms/step - loss: 0.2280 - val_loss: 0.2931\n",
            "Epoch 15/20\n",
            "500/500 [==============================] - 151s 302ms/step - loss: 0.2236 - val_loss: 0.2872\n",
            "Epoch 16/20\n",
            "500/500 [==============================] - 152s 305ms/step - loss: 0.2205 - val_loss: 0.2927\n",
            "Epoch 17/20\n",
            "500/500 [==============================] - 154s 308ms/step - loss: 0.2172 - val_loss: 0.2963\n",
            "Epoch 18/20\n",
            "500/500 [==============================] - 153s 306ms/step - loss: 0.2151 - val_loss: 0.2927\n",
            "Epoch 19/20\n",
            "500/500 [==============================] - 152s 305ms/step - loss: 0.2111 - val_loss: 0.2974\n",
            "Epoch 20/20\n",
            "500/500 [==============================] - 151s 302ms/step - loss: 0.2084 - val_loss: 0.2990\n"
          ],
          "name": "stdout"
        }
      ]
    },
    {
      "cell_type": "code",
      "metadata": {
        "id": "6aqZOvtjxcn_",
        "colab_type": "code",
        "outputId": "aeab4bb8-eda7-4091-8003-798915825600",
        "colab": {
          "base_uri": "https://localhost:8080/",
          "height": 281
        }
      },
      "source": [
        "import matplotlib.pyplot as plt\n",
        "\n",
        "loss = history.history['loss']\n",
        "val_loss = history.history['val_loss']\n",
        "\n",
        "epochs = range(len(loss))\n",
        "\n",
        "plt.figure()\n",
        "\n",
        "plt.plot(epochs, loss, 'b', label='Training loss')\n",
        "plt.plot(epochs, val_loss, 'g', label='Validation loss')\n",
        "plt.title('Training and validation loss')\n",
        "plt.legend()\n",
        "\n",
        "plt.show()"
      ],
      "execution_count": 0,
      "outputs": [
        {
          "output_type": "display_data",
          "data": {
            "image/png": "[encoded data removed]",
            "text/plain": [
              "<Figure size 432x288 with 1 Axes>"
            ]
          },
          "metadata": {
            "tags": []
          }
        }
      ]
    },
    {
      "cell_type": "markdown",
      "metadata": {
        "id": "NGqjmL51MVc4",
        "colab_type": "text"
      },
      "source": [
        "Using Recurrent Dropout to fight Overfitting:"
      ]
    },
    {
      "cell_type": "code",
      "metadata": {
        "id": "aZbcxNcUNOho",
        "colab_type": "code",
        "colab": {
          "base_uri": "https://localhost:8080/",
          "height": 1000
        },
        "outputId": "e3ef9bc8-1898-481a-b2d5-cfce5ee9e92c"
      },
      "source": [
        "from keras.models import Sequential\n",
        "from keras import layers\n",
        "from keras.optimizers import RMSprop\n",
        "\n",
        "model = Sequential()\n",
        "model.add(layers.GRU(32,dropout=0.2,recurrent_dropout=0.2,input_shape=(None, float_data.shape[-1])))\n",
        "model.add(layers.Dense(1))\n",
        "\n",
        "model.compile(optimizer=RMSprop(), loss='mae')\n",
        "\n",
        "history = model.fit_generator(train_gen,steps_per_epoch=500,epochs=40,validation_data=val_gen,validation_steps=val_steps)"
      ],
      "execution_count": 33,
      "outputs": [
        {
          "output_type": "stream",
          "text": [
            "WARNING:tensorflow:From /usr/local/lib/python3.6/dist-packages/keras/backend/tensorflow_backend.py:148: The name tf.placeholder_with_default is deprecated. Please use tf.compat.v1.placeholder_with_default instead.\n",
            "\n",
            "WARNING:tensorflow:From /usr/local/lib/python3.6/dist-packages/keras/backend/tensorflow_backend.py:3733: calling dropout (from tensorflow.python.ops.nn_ops) with keep_prob is deprecated and will be removed in a future version.\n",
            "Instructions for updating:\n",
            "Please use `rate` instead of `keep_prob`. Rate should be set to `rate = 1 - keep_prob`.\n",
            "WARNING:tensorflow:From /usr/local/lib/python3.6/dist-packages/tensorflow_core/python/ops/math_grad.py:1424: where (from tensorflow.python.ops.array_ops) is deprecated and will be removed in a future version.\n",
            "Instructions for updating:\n",
            "Use tf.where in 2.0, which has the same broadcast rule as np.where\n",
            "Epoch 1/40\n",
            "500/500 [==============================] - 176s 352ms/step - loss: 0.3374 - val_loss: 0.2744\n",
            "Epoch 2/40\n",
            "500/500 [==============================] - 174s 348ms/step - loss: 0.3146 - val_loss: 0.2701\n",
            "Epoch 3/40\n",
            "500/500 [==============================] - 174s 349ms/step - loss: 0.3075 - val_loss: 0.2707\n",
            "Epoch 4/40\n",
            "500/500 [==============================] - 173s 345ms/step - loss: 0.3042 - val_loss: 0.2681\n",
            "Epoch 5/40\n",
            "500/500 [==============================] - 172s 344ms/step - loss: 0.2974 - val_loss: 0.2666\n",
            "Epoch 6/40\n",
            "500/500 [==============================] - 172s 343ms/step - loss: 0.2973 - val_loss: 0.2683\n",
            "Epoch 7/40\n",
            "500/500 [==============================] - 173s 346ms/step - loss: 0.2941 - val_loss: 0.2650\n",
            "Epoch 8/40\n",
            "500/500 [==============================] - 173s 347ms/step - loss: 0.2917 - val_loss: 0.2673\n",
            "Epoch 9/40\n",
            "500/500 [==============================] - 171s 342ms/step - loss: 0.2913 - val_loss: 0.2634\n",
            "Epoch 10/40\n",
            "500/500 [==============================] - 170s 339ms/step - loss: 0.2885 - val_loss: 0.2623\n",
            "Epoch 11/40\n",
            "500/500 [==============================] - 169s 338ms/step - loss: 0.2896 - val_loss: 0.2622\n",
            "Epoch 12/40\n",
            "500/500 [==============================] - 169s 338ms/step - loss: 0.2846 - val_loss: 0.2602\n",
            "Epoch 13/40\n",
            "500/500 [==============================] - 168s 336ms/step - loss: 0.2850 - val_loss: 0.2748\n",
            "Epoch 14/40\n",
            "500/500 [==============================] - 169s 338ms/step - loss: 0.2851 - val_loss: 0.2632\n",
            "Epoch 15/40\n",
            "500/500 [==============================] - 171s 342ms/step - loss: 0.2834 - val_loss: 0.2647\n",
            "Epoch 16/40\n",
            "500/500 [==============================] - 170s 341ms/step - loss: 0.2831 - val_loss: 0.2639\n",
            "Epoch 17/40\n",
            "500/500 [==============================] - 171s 342ms/step - loss: 0.2826 - val_loss: 0.2671\n",
            "Epoch 18/40\n",
            "500/500 [==============================] - 171s 342ms/step - loss: 0.2794 - val_loss: 0.2629\n",
            "Epoch 19/40\n",
            "500/500 [==============================] - 170s 339ms/step - loss: 0.2802 - val_loss: 0.2667\n",
            "Epoch 20/40\n",
            "500/500 [==============================] - 168s 335ms/step - loss: 0.2794 - val_loss: 0.2625\n",
            "Epoch 21/40\n",
            "500/500 [==============================] - 167s 335ms/step - loss: 0.2779 - val_loss: 0.2660\n",
            "Epoch 22/40\n",
            "500/500 [==============================] - 168s 336ms/step - loss: 0.2760 - val_loss: 0.2656\n",
            "Epoch 23/40\n",
            "500/500 [==============================] - 168s 336ms/step - loss: 0.2756 - val_loss: 0.2654\n",
            "Epoch 24/40\n",
            "500/500 [==============================] - 168s 336ms/step - loss: 0.2765 - val_loss: 0.2654\n",
            "Epoch 25/40\n",
            "500/500 [==============================] - 170s 340ms/step - loss: 0.2738 - val_loss: 0.2666\n",
            "Epoch 26/40\n",
            "500/500 [==============================] - 171s 341ms/step - loss: 0.2752 - val_loss: 0.2695\n",
            "Epoch 27/40\n",
            "500/500 [==============================] - 169s 339ms/step - loss: 0.2746 - val_loss: 0.2649\n",
            "Epoch 28/40\n",
            "500/500 [==============================] - 169s 339ms/step - loss: 0.2740 - val_loss: 0.2657\n",
            "Epoch 29/40\n",
            "500/500 [==============================] - 170s 340ms/step - loss: 0.2737 - val_loss: 0.2674\n",
            "Epoch 30/40\n",
            "500/500 [==============================] - 168s 337ms/step - loss: 0.2730 - val_loss: 0.2673\n",
            "Epoch 31/40\n",
            "500/500 [==============================] - 169s 337ms/step - loss: 0.2719 - val_loss: 0.2666\n",
            "Epoch 32/40\n",
            "500/500 [==============================] - 168s 337ms/step - loss: 0.2702 - val_loss: 0.2659\n",
            "Epoch 33/40\n",
            "500/500 [==============================] - 169s 339ms/step - loss: 0.2728 - val_loss: 0.2682\n",
            "Epoch 34/40\n",
            "500/500 [==============================] - 169s 338ms/step - loss: 0.2724 - val_loss: 0.2677\n",
            "Epoch 35/40\n",
            "500/500 [==============================] - 168s 336ms/step - loss: 0.2701 - val_loss: 0.2682\n",
            "Epoch 36/40\n",
            "500/500 [==============================] - 169s 337ms/step - loss: 0.2699 - val_loss: 0.2680\n",
            "Epoch 37/40\n",
            "500/500 [==============================] - 170s 341ms/step - loss: 0.2710 - val_loss: 0.2672\n",
            "Epoch 38/40\n",
            "500/500 [==============================] - 171s 343ms/step - loss: 0.2686 - val_loss: 0.2695\n",
            "Epoch 39/40\n",
            "500/500 [==============================] - 171s 341ms/step - loss: 0.2698 - val_loss: 0.2724\n",
            "Epoch 40/40\n",
            "500/500 [==============================] - 169s 338ms/step - loss: 0.2697 - val_loss: 0.2667\n"
          ],
          "name": "stdout"
        }
      ]
    },
    {
      "cell_type": "code",
      "metadata": {
        "id": "duAfOBcbsGoA",
        "colab_type": "code",
        "colab": {
          "base_uri": "https://localhost:8080/",
          "height": 281
        },
        "outputId": "0a1f339b-00d3-4162-fc12-2e1780546aae"
      },
      "source": [
        "import matplotlib.pyplot as plt\n",
        "\n",
        "loss = history.history['loss']\n",
        "val_loss = history.history['val_loss']\n",
        "\n",
        "epochs = range(len(loss))\n",
        "\n",
        "plt.figure()\n",
        "\n",
        "plt.plot(epochs, loss, 'b', label='Training loss')\n",
        "plt.plot(epochs, val_loss, 'g', label='Validation loss')\n",
        "plt.title('Training and validation loss')\n",
        "plt.legend()\n",
        "\n",
        "plt.show()"
      ],
      "execution_count": 34,
      "outputs": [
        {
          "output_type": "display_data",
          "data": {
            "image/png": "[encoded data removed]",
            "text/plain": [
              "<Figure size 432x288 with 1 Axes>"
            ]
          },
          "metadata": {
            "tags": []
          }
        }
      ]
    }
  ]
}