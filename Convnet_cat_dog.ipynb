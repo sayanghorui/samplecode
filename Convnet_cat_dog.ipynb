{
  "nbformat": 4,
  "nbformat_minor": 0,
  "metadata": {
    "colab": {
      "name": "Convnet_cat_dog.ipynb",
      "provenance": [],
      "collapsed_sections": [],
      "include_colab_link": true
    },
    "kernelspec": {
      "name": "python3",
      "display_name": "Python 3"
    },
    "accelerator": "TPU"
  },
  "cells": [
    {
      "cell_type": "markdown",
      "metadata": {
        "id": "view-in-github",
        "colab_type": "text"
      },
      "source": [
        "<a href=\"https://colab.research.google.com/github/sayanghorui/samplecode/blob/master/Convnet_cat_dog.ipynb\" target=\"_parent\"><img src=\"https://colab.research.google.com/assets/colab-badge.svg\" alt=\"Open In Colab\"/></a>"
      ]
    },
    {
      "cell_type": "markdown",
      "metadata": {
        "id": "81gHKhWzXmbT",
        "colab_type": "text"
      },
      "source": [
        "### Data Preprocessing"
      ]
    },
    {
      "cell_type": "code",
      "metadata": {
        "id": "vSf9RqJRO7_S",
        "colab_type": "code",
        "outputId": "668f3a13-cfc1-48e4-a0dd-a6d5fddb0a7e",
        "colab": {
          "base_uri": "https://localhost:8080/",
          "height": 122
        }
      },
      "source": [
        "from google.colab import drive\n",
        "drive.mount('/content/drive')"
      ],
      "execution_count": 0,
      "outputs": [
        {
          "output_type": "stream",
          "text": [
            "Go to this URL in a browser: https://accounts.google.com/o/oauth2/auth?client_id=947318989803-6bn6qk8qdgf4n4g3pfee6491hc0brc4i.apps.googleusercontent.com&redirect_uri=urn%3aietf%3awg%3aoauth%3a2.0%3aoob&response_type=code&scope=email%20https%3a%2f%2fwww.googleapis.com%2fauth%2fdocs.test%20https%3a%2f%2fwww.googleapis.com%2fauth%2fdrive%20https%3a%2f%2fwww.googleapis.com%2fauth%2fdrive.photos.readonly%20https%3a%2f%2fwww.googleapis.com%2fauth%2fpeopleapi.readonly\n",
            "\n",
            "Enter your authorization code:\n",
            "··········\n",
            "Mounted at /content/drive\n"
          ],
          "name": "stdout"
        }
      ]
    },
    {
      "cell_type": "code",
      "metadata": {
        "id": "RHUHkTa9I3NE",
        "colab_type": "code",
        "outputId": "8a1513e9-9cf6-40cf-d62d-12b19b7eca76",
        "colab": {
          "base_uri": "https://localhost:8080/",
          "height": 34
        }
      },
      "source": [
        "from keras.preprocessing.image import ImageDataGenerator\n",
        "train_datagen = ImageDataGenerator(rescale=1./255)\n",
        "test_datagen = ImageDataGenerator(rescale=1./255)"
      ],
      "execution_count": 0,
      "outputs": [
        {
          "output_type": "stream",
          "text": [
            "Using TensorFlow backend.\n"
          ],
          "name": "stderr"
        }
      ]
    },
    {
      "cell_type": "code",
      "metadata": {
        "id": "o4bqJbnEMf5m",
        "colab_type": "code",
        "outputId": "d5ef607b-d863-4340-a1ac-7075bf4c2188",
        "colab": {
          "base_uri": "https://localhost:8080/",
          "height": 34
        }
      },
      "source": [
        "train_generator = train_datagen.flow_from_directory('/content/drive/My Drive/ML_datasets/cats_and_dogs_small/train',\n",
        "                                                    target_size=(150, 150),batch_size=20,class_mode='binary')"
      ],
      "execution_count": 0,
      "outputs": [
        {
          "output_type": "stream",
          "text": [
            "Found 2000 images belonging to 2 classes.\n"
          ],
          "name": "stdout"
        }
      ]
    },
    {
      "cell_type": "code",
      "metadata": {
        "id": "rPT001--PqT0",
        "colab_type": "code",
        "outputId": "747b359a-6fd7-4db7-c2f5-6ba9c28c7f77",
        "colab": {
          "base_uri": "https://localhost:8080/",
          "height": 51
        }
      },
      "source": [
        "for data_batch, labels_batch in train_generator:\n",
        "  print('data batch shape:', data_batch.shape)\n",
        "  print('labels batch shape:', labels_batch.shape)\n",
        "  break"
      ],
      "execution_count": 0,
      "outputs": [
        {
          "output_type": "stream",
          "text": [
            "data batch shape: (20, 150, 150, 3)\n",
            "labels batch shape: (20,)\n"
          ],
          "name": "stdout"
        }
      ]
    },
    {
      "cell_type": "code",
      "metadata": {
        "id": "E_S1Q16XQ34x",
        "colab_type": "code",
        "outputId": "a89e8bde-6635-4853-d94c-3667bb353f1b",
        "colab": {
          "base_uri": "https://localhost:8080/",
          "height": 34
        }
      },
      "source": [
        "validation_generator = test_datagen.flow_from_directory('/content/drive/My Drive/ML_datasets/cats_and_dogs_small/validation',\n",
        "                                                    target_size=(150, 150),batch_size=20,class_mode='binary')"
      ],
      "execution_count": 0,
      "outputs": [
        {
          "output_type": "stream",
          "text": [
            "Found 1000 images belonging to 2 classes.\n"
          ],
          "name": "stdout"
        }
      ]
    },
    {
      "cell_type": "markdown",
      "metadata": {
        "id": "UjCdSsj-XV4G",
        "colab_type": "text"
      },
      "source": [
        "### Model Architecture:"
      ]
    },
    {
      "cell_type": "code",
      "metadata": {
        "id": "cvOz6CM_RQgP",
        "colab_type": "code",
        "outputId": "15e58d14-4f47-4db2-e352-d71d5d29701a",
        "colab": {
          "base_uri": "https://localhost:8080/",
          "height": 34
        }
      },
      "source": [
        "from keras import layers, models\n",
        "from keras import optimizers"
      ],
      "execution_count": 0,
      "outputs": [
        {
          "output_type": "stream",
          "text": [
            "Using TensorFlow backend.\n"
          ],
          "name": "stderr"
        }
      ]
    },
    {
      "cell_type": "code",
      "metadata": {
        "id": "QhnXqbzbRVAX",
        "colab_type": "code",
        "outputId": "fffe868d-0416-43ce-8f94-9d9bad25120d",
        "colab": {
          "base_uri": "https://localhost:8080/",
          "height": 173
        }
      },
      "source": [
        "model = models.Sequential()\n",
        "model.add(layers.Conv2D(32, (3, 3), activation='relu',input_shape=(150, 150, 3)))\n",
        "model.add(layers.MaxPooling2D((2, 2)))\n",
        "model.add(layers.Conv2D(64, (3, 3), activation='relu'))\n",
        "model.add(layers.MaxPooling2D((2, 2)))\n",
        "model.add(layers.Conv2D(128, (3, 3), activation='relu'))\n",
        "model.add(layers.MaxPooling2D((2, 2)))\n",
        "model.add(layers.Conv2D(128, (3, 3), activation='relu'))\n",
        "model.add(layers.MaxPooling2D((2, 2)))\n",
        "model.add(layers.Flatten())\n",
        "model.add(layers.Dense(512, activation='relu'))\n",
        "model.add(layers.Dense(1, activation='sigmoid'))"
      ],
      "execution_count": 0,
      "outputs": [
        {
          "output_type": "stream",
          "text": [
            "WARNING:tensorflow:From /usr/local/lib/python3.6/dist-packages/keras/backend/tensorflow_backend.py:66: The name tf.get_default_graph is deprecated. Please use tf.compat.v1.get_default_graph instead.\n",
            "\n",
            "WARNING:tensorflow:From /usr/local/lib/python3.6/dist-packages/keras/backend/tensorflow_backend.py:541: The name tf.placeholder is deprecated. Please use tf.compat.v1.placeholder instead.\n",
            "\n",
            "WARNING:tensorflow:From /usr/local/lib/python3.6/dist-packages/keras/backend/tensorflow_backend.py:4432: The name tf.random_uniform is deprecated. Please use tf.random.uniform instead.\n",
            "\n",
            "WARNING:tensorflow:From /usr/local/lib/python3.6/dist-packages/keras/backend/tensorflow_backend.py:4267: The name tf.nn.max_pool is deprecated. Please use tf.nn.max_pool2d instead.\n",
            "\n"
          ],
          "name": "stdout"
        }
      ]
    },
    {
      "cell_type": "code",
      "metadata": {
        "id": "4V5H9MQaRfsz",
        "colab_type": "code",
        "outputId": "dae2ac68-2c55-4069-891e-4ae15c807d91",
        "colab": {
          "base_uri": "https://localhost:8080/",
          "height": 527
        }
      },
      "source": [
        "model.summary()"
      ],
      "execution_count": 0,
      "outputs": [
        {
          "output_type": "stream",
          "text": [
            "Model: \"sequential_1\"\n",
            "_________________________________________________________________\n",
            "Layer (type)                 Output Shape              Param #   \n",
            "=================================================================\n",
            "conv2d_1 (Conv2D)            (None, 148, 148, 32)      896       \n",
            "_________________________________________________________________\n",
            "max_pooling2d_1 (MaxPooling2 (None, 74, 74, 32)        0         \n",
            "_________________________________________________________________\n",
            "conv2d_2 (Conv2D)            (None, 72, 72, 64)        18496     \n",
            "_________________________________________________________________\n",
            "max_pooling2d_2 (MaxPooling2 (None, 36, 36, 64)        0         \n",
            "_________________________________________________________________\n",
            "conv2d_3 (Conv2D)            (None, 34, 34, 128)       73856     \n",
            "_________________________________________________________________\n",
            "max_pooling2d_3 (MaxPooling2 (None, 17, 17, 128)       0         \n",
            "_________________________________________________________________\n",
            "conv2d_4 (Conv2D)            (None, 15, 15, 128)       147584    \n",
            "_________________________________________________________________\n",
            "max_pooling2d_4 (MaxPooling2 (None, 7, 7, 128)         0         \n",
            "_________________________________________________________________\n",
            "flatten_1 (Flatten)          (None, 6272)              0         \n",
            "_________________________________________________________________\n",
            "dense_1 (Dense)              (None, 512)               3211776   \n",
            "_________________________________________________________________\n",
            "dense_2 (Dense)              (None, 1)                 513       \n",
            "=================================================================\n",
            "Total params: 3,453,121\n",
            "Trainable params: 3,453,121\n",
            "Non-trainable params: 0\n",
            "_________________________________________________________________\n"
          ],
          "name": "stdout"
        }
      ]
    },
    {
      "cell_type": "markdown",
      "metadata": {
        "id": "SgSFR4mxXdtR",
        "colab_type": "text"
      },
      "source": [
        "### Compile Model:"
      ]
    },
    {
      "cell_type": "code",
      "metadata": {
        "id": "iKJSNYdKRmSR",
        "colab_type": "code",
        "outputId": "6c8eeb3a-b93a-4da7-87e9-cf226b58d204",
        "colab": {
          "base_uri": "https://localhost:8080/",
          "height": 197
        }
      },
      "source": [
        "model.compile(loss='binary_crossentropy',optimizer=optimizers.RMSprop(lr=1e-4),metrics=['acc'])"
      ],
      "execution_count": 0,
      "outputs": [
        {
          "output_type": "error",
          "ename": "NameError",
          "evalue": "ignored",
          "traceback": [
            "\u001b[0;31m---------------------------------------------------------------------------\u001b[0m",
            "\u001b[0;31mNameError\u001b[0m                                 Traceback (most recent call last)",
            "\u001b[0;32m<ipython-input-10-a5d7cbf2ec8d>\u001b[0m in \u001b[0;36m<module>\u001b[0;34m()\u001b[0m\n\u001b[1;32m      1\u001b[0m \u001b[0;32mfrom\u001b[0m \u001b[0mkeras\u001b[0m \u001b[0;32mimport\u001b[0m \u001b[0moptimizers\u001b[0m\u001b[0;34m\u001b[0m\u001b[0;34m\u001b[0m\u001b[0m\n\u001b[1;32m      2\u001b[0m \u001b[0;34m\u001b[0m\u001b[0m\n\u001b[0;32m----> 3\u001b[0;31m \u001b[0mmodel\u001b[0m\u001b[0;34m.\u001b[0m\u001b[0mcompile\u001b[0m\u001b[0;34m(\u001b[0m\u001b[0mloss\u001b[0m\u001b[0;34m=\u001b[0m\u001b[0;34m'binary_crossentropy'\u001b[0m\u001b[0;34m,\u001b[0m\u001b[0moptimizer\u001b[0m\u001b[0;34m=\u001b[0m\u001b[0moptimizers\u001b[0m\u001b[0;34m.\u001b[0m\u001b[0mRMSprop\u001b[0m\u001b[0;34m(\u001b[0m\u001b[0mlr\u001b[0m\u001b[0;34m=\u001b[0m\u001b[0;36m1e-4\u001b[0m\u001b[0;34m)\u001b[0m\u001b[0;34m,\u001b[0m\u001b[0mmetrics\u001b[0m\u001b[0;34m=\u001b[0m\u001b[0;34m[\u001b[0m\u001b[0;34m'acc'\u001b[0m\u001b[0;34m]\u001b[0m\u001b[0;34m)\u001b[0m\u001b[0;34m\u001b[0m\u001b[0;34m\u001b[0m\u001b[0m\n\u001b[0m",
            "\u001b[0;31mNameError\u001b[0m: name 'model' is not defined"
          ]
        }
      ]
    },
    {
      "cell_type": "markdown",
      "metadata": {
        "id": "8i5GGUN8eJpD",
        "colab_type": "text"
      },
      "source": [
        "### Fitting the model and saving:"
      ]
    },
    {
      "cell_type": "code",
      "metadata": {
        "id": "Aue3iwWTeQfm",
        "colab_type": "code",
        "outputId": "341e1d59-9e5a-43e4-acd9-7455380592b3",
        "colab": {
          "base_uri": "https://localhost:8080/",
          "height": 1000
        }
      },
      "source": [
        "history = model.fit_generator(train_generator,steps_per_epoch=100,epochs=30,validation_data=validation_generator,validation_steps=50)"
      ],
      "execution_count": 0,
      "outputs": [
        {
          "output_type": "stream",
          "text": [
            "WARNING:tensorflow:From /usr/local/lib/python3.6/dist-packages/keras/backend/tensorflow_backend.py:1033: The name tf.assign_add is deprecated. Please use tf.compat.v1.assign_add instead.\n",
            "\n",
            "WARNING:tensorflow:From /usr/local/lib/python3.6/dist-packages/keras/backend/tensorflow_backend.py:1020: The name tf.assign is deprecated. Please use tf.compat.v1.assign instead.\n",
            "\n",
            "WARNING:tensorflow:From /usr/local/lib/python3.6/dist-packages/keras/backend/tensorflow_backend.py:3005: The name tf.Session is deprecated. Please use tf.compat.v1.Session instead.\n",
            "\n",
            "Epoch 1/30\n",
            "WARNING:tensorflow:From /usr/local/lib/python3.6/dist-packages/keras/backend/tensorflow_backend.py:190: The name tf.get_default_session is deprecated. Please use tf.compat.v1.get_default_session instead.\n",
            "\n",
            "WARNING:tensorflow:From /usr/local/lib/python3.6/dist-packages/keras/backend/tensorflow_backend.py:197: The name tf.ConfigProto is deprecated. Please use tf.compat.v1.ConfigProto instead.\n",
            "\n",
            "WARNING:tensorflow:From /usr/local/lib/python3.6/dist-packages/keras/backend/tensorflow_backend.py:207: The name tf.global_variables is deprecated. Please use tf.compat.v1.global_variables instead.\n",
            "\n",
            "WARNING:tensorflow:From /usr/local/lib/python3.6/dist-packages/keras/backend/tensorflow_backend.py:216: The name tf.is_variable_initialized is deprecated. Please use tf.compat.v1.is_variable_initialized instead.\n",
            "\n",
            "WARNING:tensorflow:From /usr/local/lib/python3.6/dist-packages/keras/backend/tensorflow_backend.py:223: The name tf.variables_initializer is deprecated. Please use tf.compat.v1.variables_initializer instead.\n",
            "\n",
            "100/100 [==============================] - 779s 8s/step - loss: 0.6914 - acc: 0.5260 - val_loss: 0.6741 - val_acc: 0.5920\n",
            "Epoch 2/30\n",
            "100/100 [==============================] - 111s 1s/step - loss: 0.6657 - acc: 0.6030 - val_loss: 0.6603 - val_acc: 0.5950\n",
            "Epoch 3/30\n",
            "100/100 [==============================] - 110s 1s/step - loss: 0.6332 - acc: 0.6615 - val_loss: 0.6358 - val_acc: 0.6330\n",
            "Epoch 4/30\n",
            "100/100 [==============================] - 111s 1s/step - loss: 0.5966 - acc: 0.6855 - val_loss: 0.6439 - val_acc: 0.6210\n",
            "Epoch 5/30\n",
            "100/100 [==============================] - 111s 1s/step - loss: 0.5480 - acc: 0.7250 - val_loss: 0.5993 - val_acc: 0.6780\n",
            "Epoch 6/30\n",
            "100/100 [==============================] - 111s 1s/step - loss: 0.5197 - acc: 0.7310 - val_loss: 0.6268 - val_acc: 0.6650\n",
            "Epoch 7/30\n",
            "100/100 [==============================] - 111s 1s/step - loss: 0.4859 - acc: 0.7690 - val_loss: 0.5804 - val_acc: 0.6990\n",
            "Epoch 8/30\n",
            "100/100 [==============================] - 111s 1s/step - loss: 0.4493 - acc: 0.7910 - val_loss: 0.5996 - val_acc: 0.6800\n",
            "Epoch 9/30\n",
            "100/100 [==============================] - 110s 1s/step - loss: 0.4192 - acc: 0.8080 - val_loss: 0.6713 - val_acc: 0.6680\n",
            "Epoch 10/30\n",
            "100/100 [==============================] - 110s 1s/step - loss: 0.3887 - acc: 0.8305 - val_loss: 0.6083 - val_acc: 0.7050\n",
            "Epoch 11/30\n",
            "100/100 [==============================] - 110s 1s/step - loss: 0.3571 - acc: 0.8415 - val_loss: 0.6921 - val_acc: 0.6860\n",
            "Epoch 12/30\n",
            "100/100 [==============================] - 110s 1s/step - loss: 0.3366 - acc: 0.8470 - val_loss: 0.7863 - val_acc: 0.6470\n",
            "Epoch 13/30\n",
            "100/100 [==============================] - 111s 1s/step - loss: 0.3141 - acc: 0.8660 - val_loss: 0.5862 - val_acc: 0.7200\n",
            "Epoch 14/30\n",
            "100/100 [==============================] - 111s 1s/step - loss: 0.2891 - acc: 0.8775 - val_loss: 0.6531 - val_acc: 0.6940\n",
            "Epoch 15/30\n",
            "100/100 [==============================] - 112s 1s/step - loss: 0.2712 - acc: 0.8860 - val_loss: 0.7378 - val_acc: 0.6960\n",
            "Epoch 16/30\n",
            "100/100 [==============================] - 111s 1s/step - loss: 0.2361 - acc: 0.9025 - val_loss: 0.6726 - val_acc: 0.7260\n",
            "Epoch 17/30\n",
            "100/100 [==============================] - 110s 1s/step - loss: 0.2164 - acc: 0.9150 - val_loss: 0.6703 - val_acc: 0.7170\n",
            "Epoch 18/30\n",
            "100/100 [==============================] - 110s 1s/step - loss: 0.1994 - acc: 0.9190 - val_loss: 0.6598 - val_acc: 0.7160\n",
            "Epoch 19/30\n",
            "100/100 [==============================] - 110s 1s/step - loss: 0.1688 - acc: 0.9395 - val_loss: 0.7187 - val_acc: 0.7220\n",
            "Epoch 20/30\n",
            "100/100 [==============================] - 111s 1s/step - loss: 0.1538 - acc: 0.9415 - val_loss: 0.7446 - val_acc: 0.7310\n",
            "Epoch 21/30\n",
            "100/100 [==============================] - 110s 1s/step - loss: 0.1347 - acc: 0.9580 - val_loss: 0.8995 - val_acc: 0.6990\n",
            "Epoch 22/30\n",
            "100/100 [==============================] - 111s 1s/step - loss: 0.1207 - acc: 0.9545 - val_loss: 0.8396 - val_acc: 0.7140\n",
            "Epoch 23/30\n",
            "100/100 [==============================] - 111s 1s/step - loss: 0.1108 - acc: 0.9640 - val_loss: 0.9498 - val_acc: 0.7080\n",
            "Epoch 24/30\n",
            "100/100 [==============================] - 111s 1s/step - loss: 0.0878 - acc: 0.9735 - val_loss: 0.8987 - val_acc: 0.7130\n",
            "Epoch 25/30\n",
            "100/100 [==============================] - 110s 1s/step - loss: 0.0755 - acc: 0.9775 - val_loss: 1.0737 - val_acc: 0.6920\n",
            "Epoch 26/30\n",
            "100/100 [==============================] - 110s 1s/step - loss: 0.0695 - acc: 0.9770 - val_loss: 0.9721 - val_acc: 0.7030\n",
            "Epoch 27/30\n",
            "100/100 [==============================] - 111s 1s/step - loss: 0.0548 - acc: 0.9875 - val_loss: 1.0585 - val_acc: 0.7040\n",
            "Epoch 28/30\n",
            "100/100 [==============================] - 111s 1s/step - loss: 0.0451 - acc: 0.9870 - val_loss: 1.2051 - val_acc: 0.7130\n",
            "Epoch 29/30\n",
            "100/100 [==============================] - 111s 1s/step - loss: 0.0383 - acc: 0.9890 - val_loss: 1.3074 - val_acc: 0.6960\n",
            "Epoch 30/30\n",
            "100/100 [==============================] - 111s 1s/step - loss: 0.0408 - acc: 0.9890 - val_loss: 1.2409 - val_acc: 0.7190\n"
          ],
          "name": "stdout"
        }
      ]
    },
    {
      "cell_type": "code",
      "metadata": {
        "id": "5kQodOJkeM2t",
        "colab_type": "code",
        "colab": {}
      },
      "source": [
        "model.save('cats_and_dogs_small_1.h5')"
      ],
      "execution_count": 0,
      "outputs": []
    },
    {
      "cell_type": "markdown",
      "metadata": {
        "id": "B2LPdoV9e3Ae",
        "colab_type": "text"
      },
      "source": [
        "### Plotting Training and Validation Loss and Accuracy"
      ]
    },
    {
      "cell_type": "code",
      "metadata": {
        "id": "UKpqyRCve9Ei",
        "colab_type": "code",
        "outputId": "e3ed27b8-cd75-4b64-dfdf-6b68f8af1745",
        "colab": {
          "base_uri": "https://localhost:8080/",
          "height": 545
        }
      },
      "source": [
        "import matplotlib.pyplot as plt\n",
        "\n",
        "acc = history.history['acc']\n",
        "val_acc = history.history['val_acc']\n",
        "loss = history.history['loss']\n",
        "val_loss = history.history['val_loss']\n",
        "\n",
        "epochs = range(1, len(acc) + 1)\n",
        "\n",
        "plt.plot(epochs, acc, 'b', label='Training acc')\n",
        "plt.plot(epochs, val_acc, 'r', label='Validation acc')\n",
        "plt.title('Training and validation accuracy')\n",
        "plt.legend()\n",
        "plt.figure()\n",
        "\n",
        "plt.plot(epochs, loss, 'b', label='Training loss')\n",
        "plt.plot(epochs, val_loss, 'r', label='Validation loss')\n",
        "plt.title('Training and validation loss')\n",
        "plt.legend()\n",
        "plt.show()\n"
      ],
      "execution_count": 0,
      "outputs": [
        {
          "output_type": "display_data",
          "data": {
            "image/png": "[encoded data removed]",
            "text/plain": [
              "<Figure size 432x288 with 1 Axes>"
            ]
          },
          "metadata": {
            "tags": []
          }
        },
        {
          "output_type": "display_data",
          "data": {
            "image/png": "[encoded data removed]",
            "text/plain": [
              "<Figure size 432x288 with 1 Axes>"
            ]
          },
          "metadata": {
            "tags": []
          }
        }
      ]
    },
    {
      "cell_type": "markdown",
      "metadata": {
        "id": "wSztOMy0HxpO",
        "colab_type": "text"
      },
      "source": [
        "### **Creating a new model with Image Augmentation and regularization**"
      ]
    },
    {
      "cell_type": "code",
      "metadata": {
        "id": "q58O1TnqH-wz",
        "colab_type": "code",
        "outputId": "ada9ca71-0fce-4a17-c5fc-269e0218e532",
        "colab": {
          "base_uri": "https://localhost:8080/",
          "height": 377
        }
      },
      "source": [
        "model_new = models.Sequential()\n",
        "\n",
        "model_new.add(layers.Conv2D(32, (3, 3), activation='relu',input_shape=(150, 150, 3)))\n",
        "model_new.add(layers.MaxPooling2D((2, 2)))\n",
        "model_new.add(layers.Conv2D(64, (3, 3), activation='relu'))\n",
        "model_new.add(layers.MaxPooling2D((2, 2)))\n",
        "model_new.add(layers.Conv2D(128, (3, 3), activation='relu'))\n",
        "model_new.add(layers.MaxPooling2D((2, 2)))\n",
        "model_new.add(layers.Conv2D(128, (3, 3), activation='relu'))\n",
        "model_new.add(layers.MaxPooling2D((2, 2)))\n",
        "model_new.add(layers.Flatten())\n",
        "model_new.add(layers.Dropout(0.5))\n",
        "model_new.add(layers.Dense(512, activation='relu'))\n",
        "model_new.add(layers.Dense(1, activation='sigmoid'))\n",
        "\n",
        "model_new.compile(loss='binary_crossentropy',optimizer=optimizers.RMSprop(lr=1e-4),metrics=['acc'])"
      ],
      "execution_count": 0,
      "outputs": [
        {
          "output_type": "stream",
          "text": [
            "WARNING:tensorflow:From /usr/local/lib/python3.6/dist-packages/keras/backend/tensorflow_backend.py:66: The name tf.get_default_graph is deprecated. Please use tf.compat.v1.get_default_graph instead.\n",
            "\n",
            "WARNING:tensorflow:From /usr/local/lib/python3.6/dist-packages/keras/backend/tensorflow_backend.py:541: The name tf.placeholder is deprecated. Please use tf.compat.v1.placeholder instead.\n",
            "\n",
            "WARNING:tensorflow:From /usr/local/lib/python3.6/dist-packages/keras/backend/tensorflow_backend.py:4432: The name tf.random_uniform is deprecated. Please use tf.random.uniform instead.\n",
            "\n",
            "WARNING:tensorflow:From /usr/local/lib/python3.6/dist-packages/keras/backend/tensorflow_backend.py:4267: The name tf.nn.max_pool is deprecated. Please use tf.nn.max_pool2d instead.\n",
            "\n",
            "WARNING:tensorflow:From /usr/local/lib/python3.6/dist-packages/keras/backend/tensorflow_backend.py:148: The name tf.placeholder_with_default is deprecated. Please use tf.compat.v1.placeholder_with_default instead.\n",
            "\n",
            "WARNING:tensorflow:From /usr/local/lib/python3.6/dist-packages/keras/backend/tensorflow_backend.py:3733: calling dropout (from tensorflow.python.ops.nn_ops) with keep_prob is deprecated and will be removed in a future version.\n",
            "Instructions for updating:\n",
            "Please use `rate` instead of `keep_prob`. Rate should be set to `rate = 1 - keep_prob`.\n",
            "WARNING:tensorflow:From /usr/local/lib/python3.6/dist-packages/keras/optimizers.py:793: The name tf.train.Optimizer is deprecated. Please use tf.compat.v1.train.Optimizer instead.\n",
            "\n",
            "WARNING:tensorflow:From /usr/local/lib/python3.6/dist-packages/keras/backend/tensorflow_backend.py:3657: The name tf.log is deprecated. Please use tf.math.log instead.\n",
            "\n",
            "WARNING:tensorflow:From /usr/local/lib/python3.6/dist-packages/tensorflow_core/python/ops/nn_impl.py:183: where (from tensorflow.python.ops.array_ops) is deprecated and will be removed in a future version.\n",
            "Instructions for updating:\n",
            "Use tf.where in 2.0, which has the same broadcast rule as np.where\n"
          ],
          "name": "stdout"
        }
      ]
    },
    {
      "cell_type": "code",
      "metadata": {
        "id": "jP4NL1ziI8q7",
        "colab_type": "code",
        "outputId": "7ac74820-0bd8-41de-ecd4-7893a3e1218a",
        "colab": {
          "base_uri": "https://localhost:8080/",
          "height": 51
        }
      },
      "source": [
        "from keras.preprocessing.image import ImageDataGenerator\n",
        "\n",
        "train_datagen = ImageDataGenerator(rescale=1./255,rotation_range=40,width_shift_range=0.2,height_shift_range=0.2,\n",
        "                                   shear_range=0.2,zoom_range=0.2,horizontal_flip=True,)\n",
        "test_datagen = ImageDataGenerator(rescale=1./255)\n",
        "\n",
        "train_generator = train_datagen.flow_from_directory('/content/drive/My Drive/ML_datasets/cats_and_dogs_small/train',\n",
        "                                                    target_size=(150, 150),batch_size=32,class_mode='binary')\n",
        "validation_generator = test_datagen.flow_from_directory('/content/drive/My Drive/ML_datasets/cats_and_dogs_small/validation',\n",
        "                                                        target_size=(150, 150),batch_size=32,class_mode='binary')"
      ],
      "execution_count": 0,
      "outputs": [
        {
          "output_type": "stream",
          "text": [
            "Found 2000 images belonging to 2 classes.\n",
            "Found 1000 images belonging to 2 classes.\n"
          ],
          "name": "stdout"
        }
      ]
    },
    {
      "cell_type": "code",
      "metadata": {
        "id": "9gmPSVeMU1mF",
        "colab_type": "code",
        "colab": {}
      },
      "source": [
        "history = model_new.fit_generator(train_generator,steps_per_epoch=100,epochs=100,validation_data=validation_generator,validation_steps=50)"
      ],
      "execution_count": 0,
      "outputs": []
    }
  ]
}