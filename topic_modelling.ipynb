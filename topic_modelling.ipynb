{
  "nbformat": 4,
  "nbformat_minor": 0,
  "metadata": {
    "colab": {
      "name": "topic_modelling.ipynb",
      "provenance": [],
      "authorship_tag": "ABX9TyP0N2sh/epAPnvexRXGgiPO",
      "include_colab_link": true
    },
    "kernelspec": {
      "name": "python3",
      "display_name": "Python 3"
    }
  },
  "cells": [
    {
      "cell_type": "markdown",
      "metadata": {
        "id": "view-in-github",
        "colab_type": "text"
      },
      "source": [
        "<a href=\"https://colab.research.google.com/github/sayanghorui/samplecode/blob/master/topic_modelling.ipynb\" target=\"_parent\"><img src=\"https://colab.research.google.com/assets/colab-badge.svg\" alt=\"Open In Colab\"/></a>"
      ]
    },
    {
      "cell_type": "code",
      "metadata": {
        "id": "an3fwjC5WIGk",
        "colab_type": "code",
        "colab": {}
      },
      "source": [
        "import nltk\n",
        "import re\n",
        "import numpy as np\n",
        "import pandas as pd\n",
        "from pprint import pprint\n",
        "\n",
        "# Gensim\n",
        "import gensim\n",
        "import gensim.corpora as corpora\n",
        "from gensim.utils import simple_preprocess\n",
        "from gensim.models import CoherenceModel\n",
        "\n",
        "# spacy for lemmatization\n",
        "import spacy\n",
        "\n",
        "# Plotting tools\n",
        "import pyLDAvis\n",
        "import pyLDAvis.gensim  \n",
        "import matplotlib.pyplot as plt\n",
        "%matplotlib inline\n",
        "\n",
        "# Enable logging for gensim - optional\n",
        "import logging\n",
        "logging.basicConfig(format='%(asctime)s : %(levelname)s : %(message)s', level=logging.ERROR)\n",
        "\n",
        "import warnings\n",
        "warnings.filterwarnings(\"ignore\",category=DeprecationWarning)"
      ],
      "execution_count": 0,
      "outputs": []
    },
    {
      "cell_type": "code",
      "metadata": {
        "id": "cCf8EohHmrtc",
        "colab_type": "code",
        "colab": {}
      },
      "source": [
        "from nltk.corpus import stopwords\n",
        "stop_words = stopwords.words('english')\n",
        "stop_words.extend(['from', 'subject', 're', 'edu', 'use'])"
      ],
      "execution_count": 0,
      "outputs": []
    },
    {
      "cell_type": "code",
      "metadata": {
        "id": "oG74jj1-nKbI",
        "colab_type": "code",
        "colab": {
          "base_uri": "https://localhost:8080/",
          "height": 119
        },
        "outputId": "d57bfe74-4407-4ba7-d9cf-c4b665eb59a9"
      },
      "source": [
        "df = pd.read_json('https://raw.githubusercontent.com/selva86/datasets/master/newsgroups.json')\n",
        "print(df.target_names.unique())"
      ],
      "execution_count": 9,
      "outputs": [
        {
          "output_type": "stream",
          "text": [
            "['rec.autos' 'comp.sys.mac.hardware' 'comp.graphics' 'sci.space'\n",
            " 'talk.politics.guns' 'sci.med' 'comp.sys.ibm.pc.hardware'\n",
            " 'comp.os.ms-windows.misc' 'rec.motorcycles' 'talk.religion.misc'\n",
            " 'misc.forsale' 'alt.atheism' 'sci.electronics' 'comp.windows.x'\n",
            " 'rec.sport.hockey' 'rec.sport.baseball' 'soc.religion.christian'\n",
            " 'talk.politics.mideast' 'talk.politics.misc' 'sci.crypt']\n"
          ],
          "name": "stdout"
        }
      ]
    },
    {
      "cell_type": "code",
      "metadata": {
        "id": "IBWtOKZmnSfg",
        "colab_type": "code",
        "colab": {
          "base_uri": "https://localhost:8080/",
          "height": 204
        },
        "outputId": "3b9e294c-c46d-4a0f-b126-79650717aacb"
      },
      "source": [
        "df.head()"
      ],
      "execution_count": 10,
      "outputs": [
        {
          "output_type": "execute_result",
          "data": {
            "text/html": [
              "<div>\n",
              "<style scoped>\n",
              "    .dataframe tbody tr th:only-of-type {\n",
              "        vertical-align: middle;\n",
              "    }\n",
              "\n",
              "    .dataframe tbody tr th {\n",
              "        vertical-align: top;\n",
              "    }\n",
              "\n",
              "    .dataframe thead th {\n",
              "        text-align: right;\n",
              "    }\n",
              "</style>\n",
              "<table border=\"1\" class=\"dataframe\">\n",
              "  <thead>\n",
              "    <tr style=\"text-align: right;\">\n",
              "      <th></th>\n",
              "      <th>content</th>\n",
              "      <th>target</th>\n",
              "      <th>target_names</th>\n",
              "    </tr>\n",
              "  </thead>\n",
              "  <tbody>\n",
              "    <tr>\n",
              "      <th>0</th>\n",
              "      <td>From: lerxst@wam.umd.edu (where's my thing)\\nS...</td>\n",
              "      <td>7</td>\n",
              "      <td>rec.autos</td>\n",
              "    </tr>\n",
              "    <tr>\n",
              "      <th>1</th>\n",
              "      <td>From: guykuo@carson.u.washington.edu (Guy Kuo)...</td>\n",
              "      <td>4</td>\n",
              "      <td>comp.sys.mac.hardware</td>\n",
              "    </tr>\n",
              "    <tr>\n",
              "      <th>2</th>\n",
              "      <td>From: twillis@ec.ecn.purdue.edu (Thomas E Will...</td>\n",
              "      <td>4</td>\n",
              "      <td>comp.sys.mac.hardware</td>\n",
              "    </tr>\n",
              "    <tr>\n",
              "      <th>3</th>\n",
              "      <td>From: jgreen@amber (Joe Green)\\nSubject: Re: W...</td>\n",
              "      <td>1</td>\n",
              "      <td>comp.graphics</td>\n",
              "    </tr>\n",
              "    <tr>\n",
              "      <th>4</th>\n",
              "      <td>From: jcm@head-cfa.harvard.edu (Jonathan McDow...</td>\n",
              "      <td>14</td>\n",
              "      <td>sci.space</td>\n",
              "    </tr>\n",
              "  </tbody>\n",
              "</table>\n",
              "</div>"
            ],
            "text/plain": [
              "                                             content  ...           target_names\n",
              "0  From: lerxst@wam.umd.edu (where's my thing)\\nS...  ...              rec.autos\n",
              "1  From: guykuo@carson.u.washington.edu (Guy Kuo)...  ...  comp.sys.mac.hardware\n",
              "2  From: twillis@ec.ecn.purdue.edu (Thomas E Will...  ...  comp.sys.mac.hardware\n",
              "3  From: jgreen@amber (Joe Green)\\nSubject: Re: W...  ...          comp.graphics\n",
              "4  From: jcm@head-cfa.harvard.edu (Jonathan McDow...  ...              sci.space\n",
              "\n",
              "[5 rows x 3 columns]"
            ]
          },
          "metadata": {
            "tags": []
          },
          "execution_count": 10
        }
      ]
    },
    {
      "cell_type": "code",
      "metadata": {
        "id": "bQJGzcwbn-1u",
        "colab_type": "code",
        "colab": {
          "base_uri": "https://localhost:8080/",
          "height": 54
        },
        "outputId": "500072a0-1755-4652-ee20-98a6faed45d7"
      },
      "source": [
        "df.content.values[0]"
      ],
      "execution_count": 11,
      "outputs": [
        {
          "output_type": "execute_result",
          "data": {
            "text/plain": [
              "\"From: lerxst@wam.umd.edu (where's my thing)\\nSubject: WHAT car is this!?\\nNntp-Posting-Host: rac3.wam.umd.edu\\nOrganization: University of Maryland, College Park\\nLines: 15\\n\\n I was wondering if anyone out there could enlighten me on this car I saw\\nthe other day. It was a 2-door sports car, looked to be from the late 60s/\\nearly 70s. It was called a Bricklin. The doors were really small. In addition,\\nthe front bumper was separate from the rest of the body. This is \\nall I know. If anyone can tellme a model name, engine specs, years\\nof production, where this car is made, history, or whatever info you\\nhave on this funky looking car, please e-mail.\\n\\nThanks,\\n- IL\\n   ---- brought to you by your neighborhood Lerxst ----\\n\\n\\n\\n\\n\""
            ]
          },
          "metadata": {
            "tags": []
          },
          "execution_count": 11
        }
      ]
    },
    {
      "cell_type": "code",
      "metadata": {
        "id": "IwSgvqy_ntW2",
        "colab_type": "code",
        "colab": {
          "base_uri": "https://localhost:8080/",
          "height": 54
        },
        "outputId": "913a8eb7-0f4d-49d2-d5e9-9a08b3db26d8"
      },
      "source": [
        "# Convert to list\n",
        "data = df.content.values.tolist()\n",
        "\n",
        "# Remove Emails\n",
        "data = [re.sub('\\S*@\\S*\\s?', '', sent) for sent in data]\n",
        "\n",
        "# Remove new line characters\n",
        "data = [re.sub('\\s+', ' ', sent) for sent in data]\n",
        "\n",
        "# Remove distracting single quotes\n",
        "data = [re.sub(\"\\'\", \"\", sent) for sent in data]\n",
        "\n",
        "print(data[0])"
      ],
      "execution_count": 12,
      "outputs": [
        {
          "output_type": "stream",
          "text": [
            "From: (wheres my thing) Subject: WHAT car is this!? Nntp-Posting-Host: rac3.wam.umd.edu Organization: University of Maryland, College Park Lines: 15 I was wondering if anyone out there could enlighten me on this car I saw the other day. It was a 2-door sports car, looked to be from the late 60s/ early 70s. It was called a Bricklin. The doors were really small. In addition, the front bumper was separate from the rest of the body. This is all I know. If anyone can tellme a model name, engine specs, years of production, where this car is made, history, or whatever info you have on this funky looking car, please e-mail. Thanks, - IL ---- brought to you by your neighborhood Lerxst ---- \n"
          ],
          "name": "stdout"
        }
      ]
    },
    {
      "cell_type": "code",
      "metadata": {
        "id": "AlGuq58UtCWN",
        "colab_type": "code",
        "colab": {
          "base_uri": "https://localhost:8080/",
          "height": 54
        },
        "outputId": "4ab6f1ee-6d26-4bce-f849-dff1a4af3956"
      },
      "source": [
        "def sent_to_words(sentences):\n",
        "    for sentence in sentences:\n",
        "        yield(gensim.utils.simple_preprocess(str(sentence), deacc=True))  # deacc=True removes punctuations\n",
        "\n",
        "data_words = list(sent_to_words(data))\n",
        "\n",
        "print(data_words[0])"
      ],
      "execution_count": 13,
      "outputs": [
        {
          "output_type": "stream",
          "text": [
            "['from', 'wheres', 'my', 'thing', 'subject', 'what', 'car', 'is', 'this', 'nntp', 'posting', 'host', 'rac', 'wam', 'umd', 'edu', 'organization', 'university', 'of', 'maryland', 'college', 'park', 'lines', 'was', 'wondering', 'if', 'anyone', 'out', 'there', 'could', 'enlighten', 'me', 'on', 'this', 'car', 'saw', 'the', 'other', 'day', 'it', 'was', 'door', 'sports', 'car', 'looked', 'to', 'be', 'from', 'the', 'late', 'early', 'it', 'was', 'called', 'bricklin', 'the', 'doors', 'were', 'really', 'small', 'in', 'addition', 'the', 'front', 'bumper', 'was', 'separate', 'from', 'the', 'rest', 'of', 'the', 'body', 'this', 'is', 'all', 'know', 'if', 'anyone', 'can', 'tellme', 'model', 'name', 'engine', 'specs', 'years', 'of', 'production', 'where', 'this', 'car', 'is', 'made', 'history', 'or', 'whatever', 'info', 'you', 'have', 'on', 'this', 'funky', 'looking', 'car', 'please', 'mail', 'thanks', 'il', 'brought', 'to', 'you', 'by', 'your', 'neighborhood', 'lerxst']\n"
          ],
          "name": "stdout"
        }
      ]
    },
    {
      "cell_type": "code",
      "metadata": {
        "id": "bW5qkc1RtwxB",
        "colab_type": "code",
        "colab": {
          "base_uri": "https://localhost:8080/",
          "height": 88
        },
        "outputId": "a1b1a1b2-ff4c-4ae4-ef28-26e35452e6d6"
      },
      "source": [
        "# Build the bigram and trigram models\n",
        "bigram = gensim.models.Phrases(data_words, min_count=5, threshold=100) # higher threshold fewer phrases.\n",
        "trigram = gensim.models.Phrases(bigram[data_words], threshold=100)  \n",
        "\n",
        "# Faster way to get a sentence clubbed as a trigram/bigram\n",
        "bigram_mod = gensim.models.phrases.Phraser(bigram)\n",
        "trigram_mod = gensim.models.phrases.Phraser(trigram)\n",
        "\n",
        "# See trigram example\n",
        "print(trigram_mod[bigram_mod[data_words[0]]])"
      ],
      "execution_count": 14,
      "outputs": [
        {
          "output_type": "stream",
          "text": [
            "/usr/local/lib/python3.6/dist-packages/gensim/models/phrases.py:598: UserWarning: For a faster implementation, use the gensim.models.phrases.Phraser class\n",
            "  warnings.warn(\"For a faster implementation, use the gensim.models.phrases.Phraser class\")\n"
          ],
          "name": "stderr"
        },
        {
          "output_type": "stream",
          "text": [
            "['from', 'wheres', 'my', 'thing', 'subject', 'what', 'car', 'is', 'this', 'nntp_posting_host', 'rac_wam_umd_edu', 'organization', 'university', 'of', 'maryland_college_park', 'lines', 'was', 'wondering', 'if', 'anyone', 'out', 'there', 'could', 'enlighten', 'me', 'on', 'this', 'car', 'saw', 'the', 'other', 'day', 'it', 'was', 'door', 'sports', 'car', 'looked', 'to', 'be', 'from', 'the', 'late', 'early', 'it', 'was', 'called', 'bricklin', 'the', 'doors', 'were', 'really', 'small', 'in', 'addition', 'the', 'front_bumper', 'was', 'separate', 'from', 'the', 'rest', 'of', 'the', 'body', 'this', 'is', 'all', 'know', 'if', 'anyone', 'can', 'tellme', 'model', 'name', 'engine', 'specs', 'years', 'of', 'production', 'where', 'this', 'car', 'is', 'made', 'history', 'or', 'whatever', 'info', 'you', 'have', 'on', 'this', 'funky', 'looking', 'car', 'please', 'mail', 'thanks', 'il', 'brought', 'to', 'you', 'by', 'your', 'neighborhood', 'lerxst']\n"
          ],
          "name": "stdout"
        }
      ]
    },
    {
      "cell_type": "code",
      "metadata": {
        "id": "h3CnbVhHu_9e",
        "colab_type": "code",
        "colab": {}
      },
      "source": [
        "# Define functions for stopwords, bigrams, trigrams and lemmatization\n",
        "def remove_stopwords(texts):\n",
        "    return [[word for word in simple_preprocess(str(doc)) if word not in stop_words] for doc in texts]\n",
        "\n",
        "def make_bigrams(texts):\n",
        "    return [bigram_mod[doc] for doc in texts]\n",
        "\n",
        "def make_trigrams(texts):\n",
        "    return [trigram_mod[bigram_mod[doc]] for doc in texts]\n",
        "\n",
        "def lemmatization(texts, allowed_postags=['NOUN', 'ADJ', 'VERB', 'ADV']):\n",
        "    \"\"\"https://spacy.io/api/annotation\"\"\"\n",
        "    texts_out = []\n",
        "    for sent in texts:\n",
        "        doc = nlp(\" \".join(sent)) \n",
        "        texts_out.append([token.lemma_ for token in doc if token.pos_ in allowed_postags])\n",
        "    return texts_out"
      ],
      "execution_count": 0,
      "outputs": []
    },
    {
      "cell_type": "code",
      "metadata": {
        "id": "mw2uPqeTvSF8",
        "colab_type": "code",
        "colab": {
          "base_uri": "https://localhost:8080/",
          "height": 54
        },
        "outputId": "0aa720d6-b6b9-4f08-ed1e-b4785e8b38c5"
      },
      "source": [
        "# Remove Stop Words\n",
        "data_words_nostops = remove_stopwords(data_words)\n",
        "\n",
        "# Form Bigrams\n",
        "data_words_bigrams = make_bigrams(data_words_nostops)\n",
        "\n",
        "# Initialize spacy 'en' model, keeping only tagger component (for efficiency)\n",
        "# python3 -m spacy download en\n",
        "nlp = spacy.load('en', disable=['parser', 'ner'])\n",
        "\n",
        "# Do lemmatization keeping only noun, adj, vb, adv\n",
        "data_lemmatized = lemmatization(data_words_bigrams, allowed_postags=['NOUN', 'ADJ', 'VERB', 'ADV'])\n",
        "\n",
        "print(data_lemmatized[0])"
      ],
      "execution_count": 16,
      "outputs": [
        {
          "output_type": "stream",
          "text": [
            "['where', 's', 'thing', 'car', 'nntp_poste', 'host', 'umd', 'organization', 'university', 'maryland_college', 'park', 'line', 'wonder', 'anyone', 'could', 'enlighten', 'car', 'see', 'day', 'door', 'sport', 'car', 'look', 'late', 'early', 'call', 'bricklin', 'door', 'really', 'small', 'addition', 'front_bumper', 'separate', 'rest', 'body', 'know', 'anyone', 'tellme', 'model', 'name', 'engine', 'specs', 'year', 'production', 'car', 'make', 'history', 'info', 'funky', 'look', 'car', 'mail', 'thank', 'bring', 'neighborhood', 'lerxst']\n"
          ],
          "name": "stdout"
        }
      ]
    },
    {
      "cell_type": "code",
      "metadata": {
        "id": "Cn_oYx-yv5l9",
        "colab_type": "code",
        "colab": {
          "base_uri": "https://localhost:8080/",
          "height": 54
        },
        "outputId": "62000e18-791c-422d-d5e5-6c9ee25cb955"
      },
      "source": [
        "# Create Dictionary\n",
        "id2word = corpora.Dictionary(data_lemmatized)\n",
        "\n",
        "# Create Corpus\n",
        "texts = data_lemmatized\n",
        "\n",
        "# Term Document Frequency\n",
        "corpus = [id2word.doc2bow(text) for text in texts]\n",
        "\n",
        "# View\n",
        "print(corpus[0])"
      ],
      "execution_count": 17,
      "outputs": [
        {
          "output_type": "stream",
          "text": [
            "[(0, 1), (1, 2), (2, 1), (3, 1), (4, 1), (5, 1), (6, 5), (7, 1), (8, 1), (9, 2), (10, 1), (11, 1), (12, 1), (13, 1), (14, 1), (15, 1), (16, 1), (17, 1), (18, 1), (19, 1), (20, 1), (21, 1), (22, 2), (23, 1), (24, 1), (25, 1), (26, 1), (27, 1), (28, 1), (29, 1), (30, 1), (31, 1), (32, 1), (33, 1), (34, 1), (35, 1), (36, 1), (37, 1), (38, 1), (39, 1), (40, 1), (41, 1), (42, 1), (43, 1), (44, 1), (45, 1), (46, 1), (47, 1), (48, 1)]\n"
          ],
          "name": "stdout"
        }
      ]
    },
    {
      "cell_type": "code",
      "metadata": {
        "id": "mN_27skjwUka",
        "colab_type": "code",
        "colab": {
          "base_uri": "https://localhost:8080/",
          "height": 54
        },
        "outputId": "4bddb2f4-6148-46a8-f7b8-5283b6e0897b"
      },
      "source": [
        "# Human readable format of corpus (term-frequency)\n",
        "print([[(id2word[id], freq) for id, freq in enumerate(cp)] for cp in corpus[0]])\n",
        "\n"
      ],
      "execution_count": 24,
      "outputs": [
        {
          "output_type": "stream",
          "text": [
            "[[('addition', 0), ('anyone', 1)], [('addition', 1), ('anyone', 2)], [('addition', 2), ('anyone', 1)], [('addition', 3), ('anyone', 1)], [('addition', 4), ('anyone', 1)], [('addition', 5), ('anyone', 1)], [('addition', 6), ('anyone', 5)], [('addition', 7), ('anyone', 1)], [('addition', 8), ('anyone', 1)], [('addition', 9), ('anyone', 2)], [('addition', 10), ('anyone', 1)], [('addition', 11), ('anyone', 1)], [('addition', 12), ('anyone', 1)], [('addition', 13), ('anyone', 1)], [('addition', 14), ('anyone', 1)], [('addition', 15), ('anyone', 1)], [('addition', 16), ('anyone', 1)], [('addition', 17), ('anyone', 1)], [('addition', 18), ('anyone', 1)], [('addition', 19), ('anyone', 1)], [('addition', 20), ('anyone', 1)], [('addition', 21), ('anyone', 1)], [('addition', 22), ('anyone', 2)], [('addition', 23), ('anyone', 1)], [('addition', 24), ('anyone', 1)], [('addition', 25), ('anyone', 1)], [('addition', 26), ('anyone', 1)], [('addition', 27), ('anyone', 1)], [('addition', 28), ('anyone', 1)], [('addition', 29), ('anyone', 1)], [('addition', 30), ('anyone', 1)], [('addition', 31), ('anyone', 1)], [('addition', 32), ('anyone', 1)], [('addition', 33), ('anyone', 1)], [('addition', 34), ('anyone', 1)], [('addition', 35), ('anyone', 1)], [('addition', 36), ('anyone', 1)], [('addition', 37), ('anyone', 1)], [('addition', 38), ('anyone', 1)], [('addition', 39), ('anyone', 1)], [('addition', 40), ('anyone', 1)], [('addition', 41), ('anyone', 1)], [('addition', 42), ('anyone', 1)], [('addition', 43), ('anyone', 1)], [('addition', 44), ('anyone', 1)], [('addition', 45), ('anyone', 1)], [('addition', 46), ('anyone', 1)], [('addition', 47), ('anyone', 1)], [('addition', 48), ('anyone', 1)]]\n"
          ],
          "name": "stdout"
        }
      ]
    },
    {
      "cell_type": "code",
      "metadata": {
        "id": "cWaPM5QVxhLD",
        "colab_type": "code",
        "colab": {}
      },
      "source": [
        "# Build LDA model\n",
        "lda_model = gensim.models.ldamodel.LdaModel(corpus=corpus,\n",
        "                                           id2word=id2word,\n",
        "                                           num_topics=20, \n",
        "                                           random_state=100,\n",
        "                                           update_every=1,\n",
        "                                           chunksize=100,\n",
        "                                           passes=10,\n",
        "                                           alpha='auto',\n",
        "                                           per_word_topics=True)"
      ],
      "execution_count": 0,
      "outputs": []
    },
    {
      "cell_type": "code",
      "metadata": {
        "id": "Y2ESgbOjzQB7",
        "colab_type": "code",
        "colab": {
          "base_uri": "https://localhost:8080/",
          "height": 54
        },
        "outputId": "24063efa-808b-4902-9812-4b2dbf35e210"
      },
      "source": [
        "# Print the Keyword in the 10 topics\n",
        "print(lda_model.print_topics())\n",
        "doc_lda = lda_model[corpus]"
      ],
      "execution_count": 26,
      "outputs": [
        {
          "output_type": "stream",
          "text": [
            "[(0, '0.036*\"team\" + 0.036*\"game\" + 0.020*\"sale\" + 0.019*\"play\" + 0.015*\"hockey\" + 0.012*\"year\" + 0.008*\"nhl\" + 0.008*\"trade\" + 0.008*\"wing\" + 0.007*\"steven\"'), (1, '0.040*\"book\" + 0.020*\"belief\" + 0.020*\"atheist\" + 0.018*\"church\" + 0.015*\"pin\" + 0.015*\"slave\" + 0.014*\"sphere\" + 0.012*\"character\" + 0.010*\"lord\" + 0.009*\"headache\"'), (2, '0.015*\"choose\" + 0.012*\"input\" + 0.011*\"sin\" + 0.010*\"notice\" + 0.009*\"eat\" + 0.009*\"cd\" + 0.009*\"food\" + 0.009*\"material\" + 0.008*\"signal\" + 0.008*\"external\"'), (3, '0.035*\"not\" + 0.022*\"write\" + 0.022*\"do\" + 0.020*\"would\" + 0.020*\"line\" + 0.019*\"organization\" + 0.017*\"be\" + 0.017*\"article\" + 0.014*\"get\" + 0.014*\"know\"'), (4, '0.533*\"ax\" + 0.008*\"rlk\" + 0.006*\"cub\" + 0.005*\"echo\" + 0.004*\"tufts_university\" + 0.004*\"stl\" + 0.004*\"pitcher\" + 0.004*\"pit\" + 0.004*\"lk\" + 0.003*\"differential\"'), (5, '0.027*\"israel\" + 0.015*\"israeli\" + 0.011*\"jew\" + 0.009*\"lebanese\" + 0.009*\"arab\" + 0.009*\"jewish\" + 0.009*\"war\" + 0.008*\"death\" + 0.008*\"kill\" + 0.007*\"attack\"'), (6, '0.030*\"drive\" + 0.018*\"card\" + 0.014*\"mac\" + 0.013*\"driver\" + 0.012*\"system\" + 0.011*\"cpu\" + 0.009*\"memory\" + 0.009*\"computer\" + 0.009*\"chip\" + 0.009*\"use\"'), (7, '0.053*\"_\" + 0.045*\"max\" + 0.012*\"dn\" + 0.010*\"eeg\" + 0.009*\"cx\" + 0.007*\"c\" + 0.007*\"mv\" + 0.005*\"mk\" + 0.005*\"sw\" + 0.004*\"mj\"'), (8, '0.015*\"library\" + 0.015*\"section\" + 0.013*\"st\" + 0.011*\"ed\" + 0.009*\"title\" + 0.009*\"art\" + 0.009*\"author\" + 0.009*\"pa\" + 0.009*\"translation\" + 0.009*\"page\"'), (9, '0.017*\"car\" + 0.011*\"new\" + 0.009*\"buy\" + 0.009*\"physical\" + 0.008*\"power\" + 0.008*\"type\" + 0.007*\"old\" + 0.007*\"graphic\" + 0.007*\"screen\" + 0.007*\"good\"'), (10, '0.035*\"god\" + 0.021*\"evidence\" + 0.017*\"christian\" + 0.015*\"reason\" + 0.015*\"believe\" + 0.012*\"say\" + 0.011*\"faith\" + 0.010*\"claim\" + 0.010*\"exist\" + 0.010*\"sense\"'), (11, '0.019*\"university\" + 0.017*\"organization\" + 0.015*\"line\" + 0.014*\"instal\" + 0.011*\"michael\" + 0.010*\"format\" + 0.010*\"package\" + 0.010*\"problem\" + 0.009*\"distribution\" + 0.009*\"robert\"'), (12, '0.018*\"pay\" + 0.015*\"item\" + 0.014*\"service\" + 0.012*\"cover\" + 0.012*\"cost\" + 0.011*\"sell\" + 0.010*\"recommend\" + 0.010*\"replace\" + 0.009*\"gateway\" + 0.009*\"air\"'), (13, '0.019*\"line\" + 0.017*\"window\" + 0.016*\"mail\" + 0.016*\"file\" + 0.016*\"thank\" + 0.015*\"program\" + 0.013*\"use\" + 0.011*\"organization\" + 0.011*\"system\" + 0.009*\"email\"'), (14, '0.019*\"state\" + 0.012*\"law\" + 0.012*\"issue\" + 0.011*\"right\" + 0.010*\"case\" + 0.008*\"group\" + 0.006*\"new\" + 0.005*\"people\" + 0.005*\"national\" + 0.005*\"support\"'), (15, '0.025*\"internet\" + 0.020*\"bike\" + 0.017*\"server\" + 0.014*\"md\" + 0.013*\"com\" + 0.012*\"engine\" + 0.011*\"ride\" + 0.011*\"steve\" + 0.011*\"pain\" + 0.010*\"route\"'), (16, '0.019*\"gun\" + 0.010*\"kill\" + 0.010*\"people\" + 0.009*\"armenian\" + 0.008*\"say\" + 0.008*\"fire\" + 0.008*\"child\" + 0.007*\"greek\" + 0.006*\"government\" + 0.006*\"american\"'), (17, '0.020*\"win\" + 0.016*\"year\" + 0.014*\"player\" + 0.013*\"university\" + 0.012*\"patient\" + 0.009*\"fan\" + 0.008*\"run\" + 0.008*\"drug\" + 0.007*\"score\" + 0.007*\"mouse\"'), (18, '0.027*\"space\" + 0.012*\"research\" + 0.009*\"faq\" + 0.008*\"earth\" + 0.008*\"mount\" + 0.007*\"science\" + 0.007*\"launch\" + 0.006*\"project\" + 0.006*\"moon\" + 0.006*\"datum\"'), (19, '0.041*\"key\" + 0.014*\"system\" + 0.014*\"ripem\" + 0.013*\"government\" + 0.013*\"public\" + 0.012*\"security\" + 0.012*\"encryption\" + 0.010*\"tape\" + 0.009*\"chip\" + 0.009*\"clipper\"')]\n"
          ],
          "name": "stdout"
        }
      ]
    },
    {
      "cell_type": "code",
      "metadata": {
        "id": "XqD3YVGrz1fk",
        "colab_type": "code",
        "colab": {
          "base_uri": "https://localhost:8080/",
          "height": 51
        },
        "outputId": "817e6878-9b32-4d18-9081-858cbe51d3b1"
      },
      "source": [
        "# Compute Perplexity\n",
        "print('Perplexity: ', lda_model.log_perplexity(corpus))  # a measure of how good the model is. lower the better.\n",
        "\n",
        "# Compute Coherence Score\n",
        "coherence_model_lda = CoherenceModel(model=lda_model, texts=data_lemmatized, dictionary=id2word, coherence='c_v')\n",
        "coherence_lda = coherence_model_lda.get_coherence()\n",
        "print('Coherence Score: ', coherence_lda)"
      ],
      "execution_count": 27,
      "outputs": [
        {
          "output_type": "stream",
          "text": [
            "Perplexity:  -8.732797516655772\n",
            "Coherence Score:  0.5017680246997409\n"
          ],
          "name": "stdout"
        }
      ]
    }
  ]
}