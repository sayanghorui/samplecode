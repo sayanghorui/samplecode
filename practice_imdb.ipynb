{
  "nbformat": 4,
  "nbformat_minor": 0,
  "metadata": {
    "colab": {
      "name": "practice_imdb.ipynb",
      "provenance": [],
      "include_colab_link": true
    },
    "kernelspec": {
      "name": "python3",
      "display_name": "Python 3"
    },
    "accelerator": "GPU"
  },
  "cells": [
    {
      "cell_type": "markdown",
      "metadata": {
        "id": "view-in-github",
        "colab_type": "text"
      },
      "source": [
        "<a href=\"https://colab.research.google.com/github/sayanghorui/samplecode/blob/master/practice_imdb.ipynb\" target=\"_parent\"><img src=\"https://colab.research.google.com/assets/colab-badge.svg\" alt=\"Open In Colab\"/></a>"
      ]
    },
    {
      "cell_type": "code",
      "metadata": {
        "id": "KKUom4irNRLC",
        "colab_type": "code",
        "outputId": "bd629df6-ac2d-43fc-ebf5-e42e6a198588",
        "colab": {
          "base_uri": "https://localhost:8080/",
          "height": 80
        }
      },
      "source": [
        "from keras.datasets import imdb\n",
        "import numpy as np"
      ],
      "execution_count": 1,
      "outputs": [
        {
          "output_type": "stream",
          "text": [
            "Using TensorFlow backend.\n"
          ],
          "name": "stderr"
        },
        {
          "output_type": "display_data",
          "data": {
            "text/html": [
              "<p style=\"color: red;\">\n",
              "The default version of TensorFlow in Colab will soon switch to TensorFlow 2.x.<br>\n",
              "We recommend you <a href=\"https://www.tensorflow.org/guide/migrate\" target=\"_blank\">upgrade</a> now \n",
              "or ensure your notebook will continue to use TensorFlow 1.x via the <code>%tensorflow_version 1.x</code> magic:\n",
              "<a href=\"https://colab.research.google.com/notebooks/tensorflow_version.ipynb\" target=\"_blank\">more info</a>.</p>\n"
            ],
            "text/plain": [
              "<IPython.core.display.HTML object>"
            ]
          },
          "metadata": {
            "tags": []
          }
        }
      ]
    },
    {
      "cell_type": "markdown",
      "metadata": {
        "id": "TBjDA-uefZ_w",
        "colab_type": "text"
      },
      "source": [
        "###**Loading Dataset**"
      ]
    },
    {
      "cell_type": "code",
      "metadata": {
        "id": "aN1oUHKMNzHs",
        "colab_type": "code",
        "outputId": "844d35ae-5593-4f3a-e794-02c6e53e9cda",
        "colab": {
          "base_uri": "https://localhost:8080/",
          "height": 51
        }
      },
      "source": [
        "(train_data, train_labels), (test_data, test_labels) = imdb.load_data(num_words=10000)"
      ],
      "execution_count": 2,
      "outputs": [
        {
          "output_type": "stream",
          "text": [
            "Downloading data from https://s3.amazonaws.com/text-datasets/imdb.npz\n",
            "17465344/17464789 [==============================] - 2s 0us/step\n"
          ],
          "name": "stdout"
        }
      ]
    },
    {
      "cell_type": "code",
      "metadata": {
        "id": "tAIhUabRRjtp",
        "colab_type": "code",
        "outputId": "c745ae43-b1b9-4590-e1bb-3d920083b93f",
        "colab": {
          "base_uri": "https://localhost:8080/",
          "height": 357
        }
      },
      "source": [
        "train_data[0]\n",
        "x = np.asarray(train_data[0])\n",
        "x"
      ],
      "execution_count": 0,
      "outputs": [
        {
          "output_type": "execute_result",
          "data": {
            "text/plain": [
              "array([   1,   14,   22,   16,   43,  530,  973, 1622, 1385,   65,  458,\n",
              "       4468,   66, 3941,    4,  173,   36,  256,    5,   25,  100,   43,\n",
              "        838,  112,   50,  670,    2,    9,   35,  480,  284,    5,  150,\n",
              "          4,  172,  112,  167,    2,  336,  385,   39,    4,  172, 4536,\n",
              "       1111,   17,  546,   38,   13,  447,    4,  192,   50,   16,    6,\n",
              "        147, 2025,   19,   14,   22,    4, 1920, 4613,  469,    4,   22,\n",
              "         71,   87,   12,   16,   43,  530,   38,   76,   15,   13, 1247,\n",
              "          4,   22,   17,  515,   17,   12,   16,  626,   18,    2,    5,\n",
              "         62,  386,   12,    8,  316,    8,  106,    5,    4, 2223, 5244,\n",
              "         16,  480,   66, 3785,   33,    4,  130,   12,   16,   38,  619,\n",
              "          5,   25,  124,   51,   36,  135,   48,   25, 1415,   33,    6,\n",
              "         22,   12,  215,   28,   77,   52,    5,   14,  407,   16,   82,\n",
              "          2,    8,    4,  107,  117, 5952,   15,  256,    4,    2,    7,\n",
              "       3766,    5,  723,   36,   71,   43,  530,  476,   26,  400,  317,\n",
              "         46,    7,    4,    2, 1029,   13,  104,   88,    4,  381,   15,\n",
              "        297,   98,   32, 2071,   56,   26,  141,    6,  194, 7486,   18,\n",
              "          4,  226,   22,   21,  134,  476,   26,  480,    5,  144,   30,\n",
              "       5535,   18,   51,   36,   28,  224,   92,   25,  104,    4,  226,\n",
              "         65,   16,   38, 1334,   88,   12,   16,  283,    5,   16, 4472,\n",
              "        113,  103,   32,   15,   16, 5345,   19,  178,   32])"
            ]
          },
          "metadata": {
            "tags": []
          },
          "execution_count": 3
        }
      ]
    },
    {
      "cell_type": "code",
      "metadata": {
        "id": "qXmm_qjGQ9xh",
        "colab_type": "code",
        "outputId": "0fe620f7-4972-41b9-9732-615502a2d83a",
        "colab": {
          "base_uri": "https://localhost:8080/",
          "height": 204
        }
      },
      "source": [
        "len(np.unique(train_data[0]))\n",
        "(np.unique(train_data[0]))\n",
        "#np.unique(train_data[0]).dtype"
      ],
      "execution_count": 0,
      "outputs": [
        {
          "output_type": "execute_result",
          "data": {
            "text/plain": [
              "array([   1,    2,    4,    5,    6,    7,    8,    9,   12,   13,   14,\n",
              "         15,   16,   17,   18,   19,   21,   22,   25,   26,   28,   30,\n",
              "         32,   33,   35,   36,   38,   39,   43,   46,   48,   50,   51,\n",
              "         52,   56,   62,   65,   66,   71,   76,   77,   82,   87,   88,\n",
              "         92,   98,  100,  103,  104,  106,  107,  112,  113,  117,  124,\n",
              "        130,  134,  135,  141,  144,  147,  150,  167,  172,  173,  178,\n",
              "        192,  194,  215,  224,  226,  256,  283,  284,  297,  316,  317,\n",
              "        336,  381,  385,  386,  400,  407,  447,  458,  469,  476,  480,\n",
              "        515,  530,  546,  619,  626,  670,  723,  838,  973, 1029, 1111,\n",
              "       1247, 1334, 1385, 1415, 1622, 1920, 2025, 2071, 2223, 3766, 3785,\n",
              "       3941, 4468, 4472, 4536, 4613, 5244, 5345, 5535, 5952, 7486])"
            ]
          },
          "metadata": {
            "tags": []
          },
          "execution_count": 4
        }
      ]
    },
    {
      "cell_type": "code",
      "metadata": {
        "id": "zg8TzlipQaGH",
        "colab_type": "code",
        "outputId": "53d60451-d0d7-4c99-ba23-1c4f727062b4",
        "colab": {
          "base_uri": "https://localhost:8080/",
          "height": 34
        }
      },
      "source": [
        "max([max(sequence) for sequence in train_data])"
      ],
      "execution_count": 0,
      "outputs": [
        {
          "output_type": "execute_result",
          "data": {
            "text/plain": [
              "9999"
            ]
          },
          "metadata": {
            "tags": []
          },
          "execution_count": 5
        }
      ]
    },
    {
      "cell_type": "code",
      "metadata": {
        "id": "wwAZ8VWpTZCd",
        "colab_type": "code",
        "outputId": "046e1c3a-7a1e-4753-fc6c-a91af4e59551",
        "colab": {
          "base_uri": "https://localhost:8080/",
          "height": 34
        }
      },
      "source": [
        "train_labels[0]"
      ],
      "execution_count": 0,
      "outputs": [
        {
          "output_type": "execute_result",
          "data": {
            "text/plain": [
              "1"
            ]
          },
          "metadata": {
            "tags": []
          },
          "execution_count": 6
        }
      ]
    },
    {
      "cell_type": "code",
      "metadata": {
        "id": "GXHKKTo4pJpN",
        "colab_type": "code",
        "outputId": "70cf9356-00fc-488e-b6b9-bcc56415781b",
        "colab": {
          "base_uri": "https://localhost:8080/",
          "height": 88
        }
      },
      "source": [
        "word_index = imdb.get_word_index()\n",
        "reverse_word_index = dict([(value, key) for (key, value) in word_index.items()])\n",
        "decoded_review = ' '.join([reverse_word_index.get(i-3,'?') for i in train_data[0]])\n",
        "decoded_review"
      ],
      "execution_count": 0,
      "outputs": [
        {
          "output_type": "stream",
          "text": [
            "Downloading data from https://s3.amazonaws.com/text-datasets/imdb_word_index.json\n",
            "1646592/1641221 [==============================] - 1s 1us/step\n"
          ],
          "name": "stdout"
        },
        {
          "output_type": "execute_result",
          "data": {
            "text/plain": [
              "\"? this film was just brilliant casting location scenery story direction everyone's really suited the part they played and you could just imagine being there robert ? is an amazing actor and now the same being director ? father came from the same scottish island as myself so i loved the fact there was a real connection with this film the witty remarks throughout the film were great it was just brilliant so much that i bought the film as soon as it was released for ? and would recommend it to everyone to watch and the fly fishing was amazing really cried at the end it was so sad and you know what they say if you cry at a film it must have been good and this definitely was also ? to the two little boy's that played the ? of norman and paul they were just brilliant children are often left out of the ? list i think because the stars that play them all grown up are such a big profile for the whole film but these children are amazing and should be praised for what they have done don't you think the whole story was so lovely because it was true and was someone's life after all that was shared with us all\""
            ]
          },
          "metadata": {
            "tags": []
          },
          "execution_count": 7
        }
      ]
    },
    {
      "cell_type": "markdown",
      "metadata": {
        "id": "yg6rbvxEe1wu",
        "colab_type": "text"
      },
      "source": [
        "###**Preparing Data: Encoding the integer sequence/list into a binary matrix**"
      ]
    },
    {
      "cell_type": "code",
      "metadata": {
        "id": "FlplxlHrTBOT",
        "colab_type": "code",
        "colab": {}
      },
      "source": [
        "def vectorize_sequences(sequences, dimension=10000):\n",
        "  results = np.zeros((len(sequences),dimension))\n",
        "  for i, sequence in enumerate(sequences):\n",
        "    results[i, sequence] = 1\n",
        "  return results"
      ],
      "execution_count": 0,
      "outputs": []
    },
    {
      "cell_type": "code",
      "metadata": {
        "id": "Zg7PQkf4cjH_",
        "colab_type": "code",
        "colab": {}
      },
      "source": [
        "x_train = vectorize_sequences(train_data)\n",
        "x_test = vectorize_sequences(test_data)"
      ],
      "execution_count": 0,
      "outputs": []
    },
    {
      "cell_type": "code",
      "metadata": {
        "id": "0N-SPoDUeXb0",
        "colab_type": "code",
        "colab": {}
      },
      "source": [
        "y_train = np.asarray(train_labels).astype('float32')\n",
        "y_test = np.asarray(test_labels).astype('float32')"
      ],
      "execution_count": 0,
      "outputs": []
    },
    {
      "cell_type": "markdown",
      "metadata": {
        "id": "seG3vlFoqQNF",
        "colab_type": "text"
      },
      "source": [
        "###**Building network: Model architecture/Definition**"
      ]
    },
    {
      "cell_type": "code",
      "metadata": {
        "id": "ya8-ri0HqmF0",
        "colab_type": "code",
        "colab": {}
      },
      "source": [
        "from keras import models\n",
        "from keras import layers"
      ],
      "execution_count": 0,
      "outputs": []
    },
    {
      "cell_type": "code",
      "metadata": {
        "id": "scCzC5Gnq_8a",
        "colab_type": "code",
        "outputId": "0d54c1b6-9aa9-4606-e2bf-2dd2616520cd",
        "colab": {
          "base_uri": "https://localhost:8080/",
          "height": 139
        }
      },
      "source": [
        "model = models.Sequential()\n",
        "model.add(layers.Dense(16, activation='relu', input_shape = (10000,)))\n",
        "model.add(layers.Dense(16, activation='relu'))\n",
        "model.add(layers.Dense(1, activation='sigmoid'))"
      ],
      "execution_count": 7,
      "outputs": [
        {
          "output_type": "stream",
          "text": [
            "WARNING:tensorflow:From /usr/local/lib/python3.6/dist-packages/keras/backend/tensorflow_backend.py:66: The name tf.get_default_graph is deprecated. Please use tf.compat.v1.get_default_graph instead.\n",
            "\n",
            "WARNING:tensorflow:From /usr/local/lib/python3.6/dist-packages/keras/backend/tensorflow_backend.py:541: The name tf.placeholder is deprecated. Please use tf.compat.v1.placeholder instead.\n",
            "\n",
            "WARNING:tensorflow:From /usr/local/lib/python3.6/dist-packages/keras/backend/tensorflow_backend.py:4432: The name tf.random_uniform is deprecated. Please use tf.random.uniform instead.\n",
            "\n"
          ],
          "name": "stdout"
        }
      ]
    },
    {
      "cell_type": "markdown",
      "metadata": {
        "id": "pvSFN2tk4hh9",
        "colab_type": "text"
      },
      "source": [
        "###**Building network: Compiling the model**"
      ]
    },
    {
      "cell_type": "code",
      "metadata": {
        "id": "YEJ-Ss7R4okB",
        "colab_type": "code",
        "outputId": "aaa6c4e2-68a7-4e0a-926f-b19d901a6ba7",
        "colab": {
          "base_uri": "https://localhost:8080/",
          "height": 156
        }
      },
      "source": [
        "model.compile(optimizer='rmsprop', loss='binary_crossentropy', metrics=['accuracy'])"
      ],
      "execution_count": 8,
      "outputs": [
        {
          "output_type": "stream",
          "text": [
            "WARNING:tensorflow:From /usr/local/lib/python3.6/dist-packages/keras/optimizers.py:793: The name tf.train.Optimizer is deprecated. Please use tf.compat.v1.train.Optimizer instead.\n",
            "\n",
            "WARNING:tensorflow:From /usr/local/lib/python3.6/dist-packages/keras/backend/tensorflow_backend.py:3657: The name tf.log is deprecated. Please use tf.math.log instead.\n",
            "\n",
            "WARNING:tensorflow:From /usr/local/lib/python3.6/dist-packages/tensorflow_core/python/ops/nn_impl.py:183: where (from tensorflow.python.ops.array_ops) is deprecated and will be removed in a future version.\n",
            "Instructions for updating:\n",
            "Use tf.where in 2.0, which has the same broadcast rule as np.where\n"
          ],
          "name": "stdout"
        }
      ]
    },
    {
      "cell_type": "markdown",
      "metadata": {
        "id": "NQSlQ4tcHbK8",
        "colab_type": "text"
      },
      "source": [
        "###**Validation approach**"
      ]
    },
    {
      "cell_type": "markdown",
      "metadata": {
        "id": "WqiORdQkIAUn",
        "colab_type": "text"
      },
      "source": [
        "Dividing Training data into Training and Validation sets:"
      ]
    },
    {
      "cell_type": "code",
      "metadata": {
        "id": "sIdzGtAAHi4R",
        "colab_type": "code",
        "colab": {}
      },
      "source": [
        "x_val = x_train[:10000]\n",
        "partial_x_train = x_train[10000:]\n",
        "y_val = y_train[:10000]\n",
        "partial_y_train = y_train[10000:]"
      ],
      "execution_count": 0,
      "outputs": []
    },
    {
      "cell_type": "markdown",
      "metadata": {
        "id": "P6wQ1NFoINO6",
        "colab_type": "text"
      },
      "source": [
        "Traing Model with Training and Validation sets:"
      ]
    },
    {
      "cell_type": "code",
      "metadata": {
        "id": "TsGxAWB-H-Cb",
        "colab_type": "code",
        "outputId": "d7189946-d6c0-46d1-bf4a-910a7246c237",
        "colab": {
          "base_uri": "https://localhost:8080/",
          "height": 1000
        }
      },
      "source": [
        "history = model.fit(partial_x_train, partial_y_train, batch_size= 512, epochs= 20, validation_data= (x_val,y_val))"
      ],
      "execution_count": 10,
      "outputs": [
        {
          "output_type": "stream",
          "text": [
            "WARNING:tensorflow:From /usr/local/lib/python3.6/dist-packages/keras/backend/tensorflow_backend.py:1033: The name tf.assign_add is deprecated. Please use tf.compat.v1.assign_add instead.\n",
            "\n",
            "WARNING:tensorflow:From /usr/local/lib/python3.6/dist-packages/keras/backend/tensorflow_backend.py:1020: The name tf.assign is deprecated. Please use tf.compat.v1.assign instead.\n",
            "\n",
            "WARNING:tensorflow:From /usr/local/lib/python3.6/dist-packages/keras/backend/tensorflow_backend.py:3005: The name tf.Session is deprecated. Please use tf.compat.v1.Session instead.\n",
            "\n",
            "Train on 15000 samples, validate on 10000 samples\n",
            "Epoch 1/20\n",
            "WARNING:tensorflow:From /usr/local/lib/python3.6/dist-packages/keras/backend/tensorflow_backend.py:190: The name tf.get_default_session is deprecated. Please use tf.compat.v1.get_default_session instead.\n",
            "\n",
            "WARNING:tensorflow:From /usr/local/lib/python3.6/dist-packages/keras/backend/tensorflow_backend.py:197: The name tf.ConfigProto is deprecated. Please use tf.compat.v1.ConfigProto instead.\n",
            "\n",
            "WARNING:tensorflow:From /usr/local/lib/python3.6/dist-packages/keras/backend/tensorflow_backend.py:207: The name tf.global_variables is deprecated. Please use tf.compat.v1.global_variables instead.\n",
            "\n",
            "WARNING:tensorflow:From /usr/local/lib/python3.6/dist-packages/keras/backend/tensorflow_backend.py:216: The name tf.is_variable_initialized is deprecated. Please use tf.compat.v1.is_variable_initialized instead.\n",
            "\n",
            "WARNING:tensorflow:From /usr/local/lib/python3.6/dist-packages/keras/backend/tensorflow_backend.py:223: The name tf.variables_initializer is deprecated. Please use tf.compat.v1.variables_initializer instead.\n",
            "\n",
            "15000/15000 [==============================] - 6s 379us/step - loss: 0.4935 - acc: 0.7995 - val_loss: 0.3749 - val_acc: 0.8685\n",
            "Epoch 2/20\n",
            "15000/15000 [==============================] - 1s 87us/step - loss: 0.2988 - acc: 0.9029 - val_loss: 0.3005 - val_acc: 0.8881\n",
            "Epoch 3/20\n",
            "15000/15000 [==============================] - 1s 85us/step - loss: 0.2229 - acc: 0.9259 - val_loss: 0.2861 - val_acc: 0.8851\n",
            "Epoch 4/20\n",
            "15000/15000 [==============================] - 1s 84us/step - loss: 0.1744 - acc: 0.9447 - val_loss: 0.3009 - val_acc: 0.8776\n",
            "Epoch 5/20\n",
            "15000/15000 [==============================] - 1s 84us/step - loss: 0.1412 - acc: 0.9562 - val_loss: 0.2802 - val_acc: 0.8890\n",
            "Epoch 6/20\n",
            "15000/15000 [==============================] - 1s 83us/step - loss: 0.1169 - acc: 0.9638 - val_loss: 0.2946 - val_acc: 0.8877\n",
            "Epoch 7/20\n",
            "15000/15000 [==============================] - 1s 79us/step - loss: 0.0963 - acc: 0.9707 - val_loss: 0.3111 - val_acc: 0.8839\n",
            "Epoch 8/20\n",
            "15000/15000 [==============================] - 1s 79us/step - loss: 0.0764 - acc: 0.9784 - val_loss: 0.3578 - val_acc: 0.8775\n",
            "Epoch 9/20\n",
            "15000/15000 [==============================] - 1s 82us/step - loss: 0.0626 - acc: 0.9828 - val_loss: 0.3932 - val_acc: 0.8686\n",
            "Epoch 10/20\n",
            "15000/15000 [==============================] - 1s 84us/step - loss: 0.0536 - acc: 0.9859 - val_loss: 0.3837 - val_acc: 0.8790\n",
            "Epoch 11/20\n",
            "15000/15000 [==============================] - 1s 84us/step - loss: 0.0398 - acc: 0.9911 - val_loss: 0.4195 - val_acc: 0.8718\n",
            "Epoch 12/20\n",
            "15000/15000 [==============================] - 1s 84us/step - loss: 0.0312 - acc: 0.9945 - val_loss: 0.4609 - val_acc: 0.8742\n",
            "Epoch 13/20\n",
            "15000/15000 [==============================] - 1s 84us/step - loss: 0.0253 - acc: 0.9957 - val_loss: 0.5064 - val_acc: 0.8639\n",
            "Epoch 14/20\n",
            "15000/15000 [==============================] - 1s 83us/step - loss: 0.0204 - acc: 0.9961 - val_loss: 0.5234 - val_acc: 0.8710\n",
            "Epoch 15/20\n",
            "15000/15000 [==============================] - 1s 84us/step - loss: 0.0161 - acc: 0.9971 - val_loss: 0.5492 - val_acc: 0.8710\n",
            "Epoch 16/20\n",
            "15000/15000 [==============================] - 1s 84us/step - loss: 0.0129 - acc: 0.9977 - val_loss: 0.5840 - val_acc: 0.8680\n",
            "Epoch 17/20\n",
            "15000/15000 [==============================] - 1s 82us/step - loss: 0.0071 - acc: 0.9997 - val_loss: 0.6221 - val_acc: 0.8669\n",
            "Epoch 18/20\n",
            "15000/15000 [==============================] - 1s 80us/step - loss: 0.0098 - acc: 0.9980 - val_loss: 0.6573 - val_acc: 0.8661\n",
            "Epoch 19/20\n",
            "15000/15000 [==============================] - 1s 81us/step - loss: 0.0037 - acc: 0.9999 - val_loss: 0.6992 - val_acc: 0.8630\n",
            "Epoch 20/20\n",
            "15000/15000 [==============================] - 1s 81us/step - loss: 0.0084 - acc: 0.9979 - val_loss: 0.7154 - val_acc: 0.8649\n"
          ],
          "name": "stdout"
        }
      ]
    },
    {
      "cell_type": "markdown",
      "metadata": {
        "id": "gxSmjj-8J4Qb",
        "colab_type": "text"
      },
      "source": [
        "Plotting Training and Validation Loss:"
      ]
    },
    {
      "cell_type": "code",
      "metadata": {
        "id": "1Aq1m6SxJ9ki",
        "colab_type": "code",
        "outputId": "8e95b23c-8144-4b16-ff1e-d13d2fe2e828",
        "colab": {
          "base_uri": "https://localhost:8080/",
          "height": 295
        }
      },
      "source": [
        "import matplotlib.pyplot as plt\n",
        "\n",
        "history_dict = history.history\n",
        "loss_values = history_dict['loss']\n",
        "val_loss_values = history_dict['val_loss']\n",
        "\n",
        "epochs = range(1, len(history_dict['acc']) + 1)\n",
        "\n",
        "plt.plot(epochs, loss_values, 'r', label = 'Training Loss')\n",
        "plt.plot(epochs, val_loss_values, 'b', label = 'Validation Loss')\n",
        "plt.title('Training and Validation Loss')\n",
        "plt.xlabel('Epochs')\n",
        "plt.ylabel('Loss')\n",
        "plt.legend()\n",
        "\n",
        "plt.show()"
      ],
      "execution_count": 11,
      "outputs": [
        {
          "output_type": "display_data",
          "data": {
            "image/png": "[encoded data removed]",
            "text/plain": [
              "<Figure size 432x288 with 1 Axes>"
            ]
          },
          "metadata": {
            "tags": []
          }
        }
      ]
    },
    {
      "cell_type": "markdown",
      "metadata": {
        "id": "x3-WOJBtP45Z",
        "colab_type": "text"
      },
      "source": [
        "Plotting Training and Validation Accuracy:"
      ]
    },
    {
      "cell_type": "code",
      "metadata": {
        "id": "WAECBKvwP5SW",
        "colab_type": "code",
        "outputId": "2f087036-650d-4064-a3b2-f803ee2c821c",
        "colab": {
          "base_uri": "https://localhost:8080/",
          "height": 295
        }
      },
      "source": [
        "acc_values = history_dict['acc']\n",
        "val_acc_values = history_dict['val_acc']\n",
        "\n",
        "plt.plot(epochs, acc_values, 'r', label = 'Training Accuracy')\n",
        "plt.plot(epochs, val_acc_values, 'b', label = 'Validation Accuracy')\n",
        "plt.title('Training and Validation Accuracy')\n",
        "plt.xlabel('Epochs')\n",
        "plt.ylabel('Accuracy')\n",
        "plt.legend()\n",
        "\n",
        "plt.show()"
      ],
      "execution_count": 12,
      "outputs": [
        {
          "output_type": "display_data",
          "data": {
            "image/png": "[encoded data removed]",
            "text/plain": [
              "<Figure size 432x288 with 1 Axes>"
            ]
          },
          "metadata": {
            "tags": []
          }
        }
      ]
    },
    {
      "cell_type": "markdown",
      "metadata": {
        "id": "LrLglRYsRjZG",
        "colab_type": "text"
      },
      "source": [
        "###**Retraining new Models from scratch:**"
      ]
    },
    {
      "cell_type": "code",
      "metadata": {
        "id": "viP2InbARvbl",
        "colab_type": "code",
        "outputId": "baa2f97d-b61d-493f-fee6-b459c912ed41",
        "colab": {
          "base_uri": "https://localhost:8080/",
          "height": 187
        }
      },
      "source": [
        "model1 = models.Sequential()\n",
        "\n",
        "model1.add(layers.Dense(16, activation='relu', input_shape=(10000,)))\n",
        "model1.add(layers.Dense(16, activation='relu'))\n",
        "model1.add(layers.Dense(1, activation='sigmoid'))\n",
        "\n",
        "model1.compile(optimizer='rmsprop', loss='binary_crossentropy', metrics=['accuracy'])\n",
        "\n",
        "model1.fit(x_train, y_train, epochs=4, batch_size=512)\n",
        "results = model1.evaluate(x_test, y_test)\n",
        "print(results)"
      ],
      "execution_count": 13,
      "outputs": [
        {
          "output_type": "stream",
          "text": [
            "Epoch 1/4\n",
            "25000/25000 [==============================] - 2s 62us/step - loss: 0.4672 - acc: 0.8234\n",
            "Epoch 2/4\n",
            "25000/25000 [==============================] - 1s 55us/step - loss: 0.2710 - acc: 0.9078\n",
            "Epoch 3/4\n",
            "25000/25000 [==============================] - 1s 55us/step - loss: 0.2067 - acc: 0.9271\n",
            "Epoch 4/4\n",
            "25000/25000 [==============================] - 1s 54us/step - loss: 0.1733 - acc: 0.9375\n",
            "25000/25000 [==============================] - 2s 93us/step\n",
            "[0.29228190137386323, 0.8834]\n"
          ],
          "name": "stdout"
        }
      ]
    },
    {
      "cell_type": "markdown",
      "metadata": {
        "id": "4m1REF6pUBvB",
        "colab_type": "text"
      },
      "source": [
        "**Model with more hidden units in layers:**"
      ]
    },
    {
      "cell_type": "code",
      "metadata": {
        "id": "HlWBTW_4UGI0",
        "colab_type": "code",
        "outputId": "385332c2-049b-4b89-c37c-e76290369ba3",
        "colab": {
          "base_uri": "https://localhost:8080/",
          "height": 187
        }
      },
      "source": [
        "model2 = models.Sequential()\n",
        "\n",
        "model2.add(layers.Dense(8, activation='relu', input_shape=(10000,)))\n",
        "model2.add(layers.Dense(8, activation='relu'))\n",
        "model2.add(layers.Dense(1, activation='sigmoid'))\n",
        "\n",
        "model2.compile(optimizer='rmsprop', loss='binary_crossentropy', metrics=['accuracy'])\n",
        "\n",
        "model2.fit(x_train, y_train, epochs=4, batch_size=512)\n",
        "results = model2.evaluate(x_test, y_test)\n",
        "print(results)"
      ],
      "execution_count": 0,
      "outputs": [
        {
          "output_type": "stream",
          "text": [
            "Epoch 1/4\n",
            "25000/25000 [==============================] - 2s 63us/step - loss: 0.5171 - acc: 0.7921\n",
            "Epoch 2/4\n",
            "25000/25000 [==============================] - 1s 48us/step - loss: 0.3070 - acc: 0.9006\n",
            "Epoch 3/4\n",
            "25000/25000 [==============================] - 1s 49us/step - loss: 0.2285 - acc: 0.9227\n",
            "Epoch 4/4\n",
            "25000/25000 [==============================] - 1s 49us/step - loss: 0.1887 - acc: 0.9353\n",
            "25000/25000 [==============================] - 2s 77us/step\n",
            "[0.28180060517311095, 0.88832]\n"
          ],
          "name": "stdout"
        }
      ]
    },
    {
      "cell_type": "markdown",
      "metadata": {
        "id": "uhFNbQnHVMls",
        "colab_type": "text"
      },
      "source": [
        "**Model with different Loss function:**"
      ]
    },
    {
      "cell_type": "code",
      "metadata": {
        "id": "YQp1_7cZVS9a",
        "colab_type": "code",
        "outputId": "5b53cd21-e826-4d3a-cc2b-22e219fa74e0",
        "colab": {
          "base_uri": "https://localhost:8080/",
          "height": 187
        }
      },
      "source": [
        "model3 = models.Sequential()\n",
        "\n",
        "model3.add(layers.Dense(16, activation='relu', input_shape=(10000,)))\n",
        "model3.add(layers.Dense(16, activation='relu'))\n",
        "model3.add(layers.Dense(1, activation='sigmoid'))\n",
        "\n",
        "model3.compile(optimizer='rmsprop', loss='mse', metrics=['accuracy'])\n",
        "\n",
        "model3.fit(x_train, y_train, epochs=4, batch_size=512)\n",
        "results = model3.evaluate(x_test, y_test)\n",
        "print(results)"
      ],
      "execution_count": 0,
      "outputs": [
        {
          "output_type": "stream",
          "text": [
            "Epoch 1/4\n",
            "25000/25000 [==============================] - 2s 62us/step - loss: 0.1544 - acc: 0.8192\n",
            "Epoch 2/4\n",
            "25000/25000 [==============================] - 1s 46us/step - loss: 0.0814 - acc: 0.9092\n",
            "Epoch 3/4\n",
            "25000/25000 [==============================] - 1s 46us/step - loss: 0.0600 - acc: 0.9286\n",
            "Epoch 4/4\n",
            "25000/25000 [==============================] - 1s 46us/step - loss: 0.0489 - acc: 0.9423\n",
            "25000/25000 [==============================] - 2s 78us/step\n",
            "[0.08823470275044441, 0.88068]\n"
          ],
          "name": "stdout"
        }
      ]
    },
    {
      "cell_type": "markdown",
      "metadata": {
        "id": "LbvN1s8xVu5G",
        "colab_type": "text"
      },
      "source": [
        "**Model with different Activation function:**"
      ]
    },
    {
      "cell_type": "code",
      "metadata": {
        "id": "gPcOUYVqVvch",
        "colab_type": "code",
        "outputId": "ecd523dc-490a-4ff3-e69b-55ae3530757c",
        "colab": {
          "base_uri": "https://localhost:8080/",
          "height": 187
        }
      },
      "source": [
        "model4 = models.Sequential()\n",
        "\n",
        "model4.add(layers.Dense(16, activation='tanh', input_shape=(10000,)))\n",
        "model4.add(layers.Dense(16, activation='tanh'))\n",
        "model4.add(layers.Dense(1, activation='sigmoid'))\n",
        "\n",
        "model4.compile(optimizer='rmsprop', loss='binary_crossentropy', metrics=['accuracy'])\n",
        "\n",
        "model4.fit(x_train, y_train, epochs=4, batch_size=512)\n",
        "results = model4.evaluate(x_test, y_test)\n",
        "print(results)"
      ],
      "execution_count": 0,
      "outputs": [
        {
          "output_type": "stream",
          "text": [
            "Epoch 1/4\n",
            "25000/25000 [==============================] - 2s 63us/step - loss: 0.4249 - acc: 0.8260\n",
            "Epoch 2/4\n",
            "25000/25000 [==============================] - 1s 47us/step - loss: 0.2369 - acc: 0.9155\n",
            "Epoch 3/4\n",
            "25000/25000 [==============================] - 1s 47us/step - loss: 0.1788 - acc: 0.9346\n",
            "Epoch 4/4\n",
            "25000/25000 [==============================] - 1s 46us/step - loss: 0.1469 - acc: 0.9471\n",
            "25000/25000 [==============================] - 2s 83us/step\n",
            "[0.31866204594135283, 0.878]\n"
          ],
          "name": "stdout"
        }
      ]
    },
    {
      "cell_type": "markdown",
      "metadata": {
        "id": "6ldW1lvoWMkF",
        "colab_type": "text"
      },
      "source": [
        "**Model with additional layers:**"
      ]
    },
    {
      "cell_type": "code",
      "metadata": {
        "id": "xJFLRZfxWM-9",
        "colab_type": "code",
        "outputId": "331a4b3a-6176-47a7-c146-71c6375af6df",
        "colab": {
          "base_uri": "https://localhost:8080/",
          "height": 187
        }
      },
      "source": [
        "model5 = models.Sequential()\n",
        "\n",
        "model5.add(layers.Dense(16, activation='relu', input_shape=(10000,)))\n",
        "model5.add(layers.Dense(16, activation='relu'))\n",
        "model5.add(layers.Dense(16, activation='relu'))\n",
        "model5.add(layers.Dense(1, activation='sigmoid'))\n",
        "\n",
        "model5.compile(optimizer='rmsprop', loss='binary_crossentropy', metrics=['accuracy'])\n",
        "\n",
        "model5.fit(x_train, y_train, epochs=4, batch_size=512)\n",
        "results = model5.evaluate(x_test, y_test)\n",
        "print(results)"
      ],
      "execution_count": 0,
      "outputs": [
        {
          "output_type": "stream",
          "text": [
            "Epoch 1/4\n",
            "25000/25000 [==============================] - 2s 68us/step - loss: 0.4846 - acc: 0.8138\n",
            "Epoch 2/4\n",
            "25000/25000 [==============================] - 1s 48us/step - loss: 0.2687 - acc: 0.9081\n",
            "Epoch 3/4\n",
            "25000/25000 [==============================] - 1s 47us/step - loss: 0.2033 - acc: 0.9282\n",
            "Epoch 4/4\n",
            "25000/25000 [==============================] - 1s 48us/step - loss: 0.1689 - acc: 0.9410\n",
            "25000/25000 [==============================] - 2s 83us/step\n",
            "[0.30506286395072935, 0.88032]\n"
          ],
          "name": "stdout"
        }
      ]
    },
    {
      "cell_type": "markdown",
      "metadata": {
        "id": "j-A1DopBhMmE",
        "colab_type": "text"
      },
      "source": [
        "###Models with Regularization"
      ]
    },
    {
      "cell_type": "code",
      "metadata": {
        "id": "yG95KBeuhS0m",
        "colab_type": "code",
        "colab": {}
      },
      "source": [
        "from keras import regularizers\n",
        "\n",
        "model6 = models.Sequential()\n",
        "model6.add(layers.Dense(16, kernel_regularizer=regularizers.l2(0.001),activation='relu', input_shape=(10000,)))\n",
        "model6.add(layers.Dense(16, kernel_regularizer=regularizers.l2(0.001),activation='relu'))\n",
        "model6.add(layers.Dense(1, activation='sigmoid'))"
      ],
      "execution_count": 0,
      "outputs": []
    },
    {
      "cell_type": "code",
      "metadata": {
        "id": "dyljDtgphwpa",
        "colab_type": "code",
        "colab": {}
      },
      "source": [
        "model6.compile(optimizer='rmsprop', loss='binary_crossentropy', metrics=['accuracy'])"
      ],
      "execution_count": 0,
      "outputs": []
    },
    {
      "cell_type": "code",
      "metadata": {
        "id": "LmrbBqmyhzuR",
        "colab_type": "code",
        "colab": {
          "base_uri": "https://localhost:8080/",
          "height": 714
        },
        "outputId": "cb5553d4-13f1-4442-a632-ec25752d66c7"
      },
      "source": [
        "history = model6.fit(x_train, y_train, batch_size= 512, epochs= 20, validation_data= (x_test,y_test))"
      ],
      "execution_count": 18,
      "outputs": [
        {
          "output_type": "stream",
          "text": [
            "Train on 25000 samples, validate on 25000 samples\n",
            "Epoch 1/20\n",
            "25000/25000 [==============================] - 3s 101us/step - loss: 0.2538 - acc: 0.9355 - val_loss: 0.4239 - val_acc: 0.8576\n",
            "Epoch 2/20\n",
            "25000/25000 [==============================] - 2s 100us/step - loss: 0.2157 - acc: 0.9446 - val_loss: 0.4241 - val_acc: 0.8658\n",
            "Epoch 3/20\n",
            "25000/25000 [==============================] - 3s 101us/step - loss: 0.1999 - acc: 0.9505 - val_loss: 0.4005 - val_acc: 0.8708\n",
            "Epoch 4/20\n",
            "25000/25000 [==============================] - 2s 99us/step - loss: 0.1957 - acc: 0.9514 - val_loss: 0.4019 - val_acc: 0.8697\n",
            "Epoch 5/20\n",
            "25000/25000 [==============================] - 2s 99us/step - loss: 0.1842 - acc: 0.9560 - val_loss: 0.4348 - val_acc: 0.8657\n",
            "Epoch 6/20\n",
            "25000/25000 [==============================] - 2s 100us/step - loss: 0.1910 - acc: 0.9512 - val_loss: 0.4086 - val_acc: 0.8693\n",
            "Epoch 7/20\n",
            "25000/25000 [==============================] - 3s 101us/step - loss: 0.1744 - acc: 0.9588 - val_loss: 0.4338 - val_acc: 0.8641\n",
            "Epoch 8/20\n",
            "25000/25000 [==============================] - 2s 99us/step - loss: 0.1739 - acc: 0.9598 - val_loss: 0.4257 - val_acc: 0.8668\n",
            "Epoch 9/20\n",
            "25000/25000 [==============================] - 2s 99us/step - loss: 0.1746 - acc: 0.9596 - val_loss: 0.4271 - val_acc: 0.8682\n",
            "Epoch 10/20\n",
            "25000/25000 [==============================] - 2s 99us/step - loss: 0.1677 - acc: 0.9614 - val_loss: 0.4311 - val_acc: 0.8683\n",
            "Epoch 11/20\n",
            "25000/25000 [==============================] - 2s 100us/step - loss: 0.1682 - acc: 0.9623 - val_loss: 0.4990 - val_acc: 0.8542\n",
            "Epoch 12/20\n",
            "25000/25000 [==============================] - 2s 99us/step - loss: 0.1600 - acc: 0.9678 - val_loss: 0.4381 - val_acc: 0.8669\n",
            "Epoch 13/20\n",
            "25000/25000 [==============================] - 2s 94us/step - loss: 0.1618 - acc: 0.9646 - val_loss: 0.4375 - val_acc: 0.8680\n",
            "Epoch 14/20\n",
            "25000/25000 [==============================] - 2s 98us/step - loss: 0.1577 - acc: 0.9657 - val_loss: 0.4533 - val_acc: 0.8649\n",
            "Epoch 15/20\n",
            "25000/25000 [==============================] - 2s 100us/step - loss: 0.1535 - acc: 0.9694 - val_loss: 0.4514 - val_acc: 0.8658\n",
            "Epoch 16/20\n",
            "25000/25000 [==============================] - 3s 100us/step - loss: 0.1553 - acc: 0.9677 - val_loss: 0.4617 - val_acc: 0.8646\n",
            "Epoch 17/20\n",
            "25000/25000 [==============================] - 2s 100us/step - loss: 0.1539 - acc: 0.9682 - val_loss: 0.5044 - val_acc: 0.8574\n",
            "Epoch 18/20\n",
            "25000/25000 [==============================] - 3s 100us/step - loss: 0.1455 - acc: 0.9716 - val_loss: 0.5891 - val_acc: 0.8409\n",
            "Epoch 19/20\n",
            "25000/25000 [==============================] - 2s 99us/step - loss: 0.1470 - acc: 0.9719 - val_loss: 0.4604 - val_acc: 0.8657\n",
            "Epoch 20/20\n",
            "25000/25000 [==============================] - 3s 101us/step - loss: 0.1427 - acc: 0.9743 - val_loss: 0.4963 - val_acc: 0.8573\n"
          ],
          "name": "stdout"
        }
      ]
    },
    {
      "cell_type": "code",
      "metadata": {
        "id": "-RtDIZDsiJWp",
        "colab_type": "code",
        "colab": {
          "base_uri": "https://localhost:8080/",
          "height": 295
        },
        "outputId": "282f5feb-ebcb-41cb-a97b-f1bfe506564b"
      },
      "source": [
        "import matplotlib.pyplot as plt\n",
        "\n",
        "history_dict = history.history\n",
        "loss_values = history_dict['loss']\n",
        "val_loss_values = history_dict['val_loss']\n",
        "\n",
        "epochs = range(1, len(history_dict['acc']) + 1)\n",
        "\n",
        "plt.plot(epochs, loss_values, 'r', label = 'Training Loss')\n",
        "plt.plot(epochs, val_loss_values, 'b', label = 'Validation Loss')\n",
        "plt.title('Training and Validation Loss')\n",
        "plt.xlabel('Epochs')\n",
        "plt.ylabel('Loss')\n",
        "plt.legend()\n",
        "\n",
        "plt.show()"
      ],
      "execution_count": 19,
      "outputs": [
        {
          "output_type": "display_data",
          "data": {
            "image/png": "[encoded data removed]",
            "text/plain": [
              "<Figure size 432x288 with 1 Axes>"
            ]
          },
          "metadata": {
            "tags": []
          }
        }
      ]
    },
    {
      "cell_type": "code",
      "metadata": {
        "id": "3QEZY28LonUR",
        "colab_type": "code",
        "colab": {
          "base_uri": "https://localhost:8080/",
          "height": 122
        },
        "outputId": "28cc4add-ac87-42e1-a431-ae6db18dfb09"
      },
      "source": [
        "model7 = models.Sequential()\n",
        "model7.add(layers.Dense(16, activation='relu', input_shape=(10000,)))\n",
        "model7.add(layers.Dropout(0.5))\n",
        "model7.add(layers.Dense(16, activation='relu'))\n",
        "model7.add(layers.Dropout(0.5))\n",
        "model7.add(layers.Dense(1, activation='sigmoid'))\n",
        "\n",
        "model7.compile(optimizer='rmsprop', loss='binary_crossentropy', metrics=['accuracy'])"
      ],
      "execution_count": 20,
      "outputs": [
        {
          "output_type": "stream",
          "text": [
            "WARNING:tensorflow:From /usr/local/lib/python3.6/dist-packages/keras/backend/tensorflow_backend.py:148: The name tf.placeholder_with_default is deprecated. Please use tf.compat.v1.placeholder_with_default instead.\n",
            "\n",
            "WARNING:tensorflow:From /usr/local/lib/python3.6/dist-packages/keras/backend/tensorflow_backend.py:3733: calling dropout (from tensorflow.python.ops.nn_ops) with keep_prob is deprecated and will be removed in a future version.\n",
            "Instructions for updating:\n",
            "Please use `rate` instead of `keep_prob`. Rate should be set to `rate = 1 - keep_prob`.\n"
          ],
          "name": "stdout"
        }
      ]
    },
    {
      "cell_type": "code",
      "metadata": {
        "id": "Os3EaRa8pXuR",
        "colab_type": "code",
        "colab": {
          "base_uri": "https://localhost:8080/",
          "height": 714
        },
        "outputId": "c5b6f54d-3db8-4e98-80bc-98de4aefb557"
      },
      "source": [
        "history = model7.fit(x_train, y_train, batch_size= 512, epochs= 20, validation_data= (x_test,y_test))"
      ],
      "execution_count": 22,
      "outputs": [
        {
          "output_type": "stream",
          "text": [
            "Train on 25000 samples, validate on 25000 samples\n",
            "Epoch 1/20\n",
            "25000/25000 [==============================] - 3s 114us/step - loss: 0.6000 - acc: 0.6699 - val_loss: 0.4559 - val_acc: 0.8530\n",
            "Epoch 2/20\n",
            "25000/25000 [==============================] - 2s 99us/step - loss: 0.4477 - acc: 0.8095 - val_loss: 0.3403 - val_acc: 0.8806\n",
            "Epoch 3/20\n",
            "25000/25000 [==============================] - 2s 99us/step - loss: 0.3553 - acc: 0.8673 - val_loss: 0.2860 - val_acc: 0.8893\n",
            "Epoch 4/20\n",
            "25000/25000 [==============================] - 2s 100us/step - loss: 0.3092 - acc: 0.8921 - val_loss: 0.2746 - val_acc: 0.8899\n",
            "Epoch 5/20\n",
            "25000/25000 [==============================] - 2s 99us/step - loss: 0.2655 - acc: 0.9122 - val_loss: 0.2774 - val_acc: 0.8903\n",
            "Epoch 6/20\n",
            "25000/25000 [==============================] - 2s 99us/step - loss: 0.2385 - acc: 0.9225 - val_loss: 0.2885 - val_acc: 0.8898\n",
            "Epoch 7/20\n",
            "25000/25000 [==============================] - 2s 99us/step - loss: 0.2099 - acc: 0.9340 - val_loss: 0.3085 - val_acc: 0.8884\n",
            "Epoch 8/20\n",
            "25000/25000 [==============================] - 2s 99us/step - loss: 0.1944 - acc: 0.9371 - val_loss: 0.3167 - val_acc: 0.8870\n",
            "Epoch 9/20\n",
            "25000/25000 [==============================] - 2s 100us/step - loss: 0.1763 - acc: 0.9435 - val_loss: 0.3431 - val_acc: 0.8786\n",
            "Epoch 10/20\n",
            "25000/25000 [==============================] - 2s 100us/step - loss: 0.1576 - acc: 0.9482 - val_loss: 0.3616 - val_acc: 0.8838\n",
            "Epoch 11/20\n",
            "25000/25000 [==============================] - 2s 99us/step - loss: 0.1530 - acc: 0.9522 - val_loss: 0.3760 - val_acc: 0.8808\n",
            "Epoch 12/20\n",
            "25000/25000 [==============================] - 2s 99us/step - loss: 0.1406 - acc: 0.9564 - val_loss: 0.3917 - val_acc: 0.8796\n",
            "Epoch 13/20\n",
            "25000/25000 [==============================] - 2s 94us/step - loss: 0.1362 - acc: 0.9579 - val_loss: 0.4285 - val_acc: 0.8796\n",
            "Epoch 14/20\n",
            "25000/25000 [==============================] - 2s 99us/step - loss: 0.1299 - acc: 0.9598 - val_loss: 0.4546 - val_acc: 0.8784\n",
            "Epoch 15/20\n",
            "25000/25000 [==============================] - 2s 99us/step - loss: 0.1246 - acc: 0.9610 - val_loss: 0.4642 - val_acc: 0.8769\n",
            "Epoch 16/20\n",
            "25000/25000 [==============================] - 2s 100us/step - loss: 0.1255 - acc: 0.9625 - val_loss: 0.4893 - val_acc: 0.8733\n",
            "Epoch 17/20\n",
            "25000/25000 [==============================] - 2s 100us/step - loss: 0.1222 - acc: 0.9618 - val_loss: 0.4839 - val_acc: 0.8751\n",
            "Epoch 18/20\n",
            "25000/25000 [==============================] - 2s 100us/step - loss: 0.1067 - acc: 0.9669 - val_loss: 0.5198 - val_acc: 0.8710\n",
            "Epoch 19/20\n",
            "25000/25000 [==============================] - 2s 99us/step - loss: 0.1054 - acc: 0.9660 - val_loss: 0.5259 - val_acc: 0.8754\n",
            "Epoch 20/20\n",
            "25000/25000 [==============================] - 2s 100us/step - loss: 0.1008 - acc: 0.9684 - val_loss: 0.5714 - val_acc: 0.8719\n"
          ],
          "name": "stdout"
        }
      ]
    },
    {
      "cell_type": "code",
      "metadata": {
        "id": "FveZrqmBppU7",
        "colab_type": "code",
        "colab": {
          "base_uri": "https://localhost:8080/",
          "height": 295
        },
        "outputId": "1878152d-8ae1-4dc0-e79b-77286ba42a44"
      },
      "source": [
        "import matplotlib.pyplot as plt\n",
        "\n",
        "history_dict = history.history\n",
        "loss_values = history_dict['loss']\n",
        "val_loss_values = history_dict['val_loss']\n",
        "\n",
        "epochs = range(1, len(history_dict['acc']) + 1)\n",
        "\n",
        "plt.plot(epochs, loss_values, 'r', label = 'Training Loss')\n",
        "plt.plot(epochs, val_loss_values, 'b', label = 'Validation Loss')\n",
        "plt.title('Training and Validation Loss')\n",
        "plt.xlabel('Epochs')\n",
        "plt.ylabel('Loss')\n",
        "plt.legend()\n",
        "\n",
        "plt.show()"
      ],
      "execution_count": 23,
      "outputs": [
        {
          "output_type": "display_data",
          "data": {
            "image/png": "[encoded data removed]",
            "text/plain": [
              "<Figure size 432x288 with 1 Axes>"
            ]
          },
          "metadata": {
            "tags": []
          }
        }
      ]
    }
  ]
}